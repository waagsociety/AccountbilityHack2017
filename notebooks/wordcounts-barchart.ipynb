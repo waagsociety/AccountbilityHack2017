{
 "cells": [
  {
   "cell_type": "code",
   "execution_count": 32,
   "metadata": {
    "collapsed": true,
    "scrolled": false
   },
   "outputs": [],
   "source": [
    "import pandas as pd\n",
    "from pprint import pprint"
   ]
  },
  {
   "cell_type": "code",
   "execution_count": 43,
   "metadata": {
    "scrolled": false
   },
   "outputs": [],
   "source": [
    "df = pd.read_csv('filtered_scores.csv', index_col=0, header=2)\n",
    "df = df.div(df.sum(axis=1), axis=0)*100"
   ]
  },
  {
   "cell_type": "code",
   "execution_count": 44,
   "metadata": {},
   "outputs": [
    {
     "data": {
      "text/html": [
       "<script>requirejs.config({paths: { 'plotly': ['https://cdn.plot.ly/plotly-latest.min']},});if(!window.Plotly) {{require(['plotly'],function(plotly) {window.Plotly=plotly;});}}</script>"
      ],
      "text/vnd.plotly.v1+html": [
       "<script>requirejs.config({paths: { 'plotly': ['https://cdn.plot.ly/plotly-latest.min']},});if(!window.Plotly) {{require(['plotly'],function(plotly) {window.Plotly=plotly;});}}</script>"
      ]
     },
     "metadata": {},
     "output_type": "display_data"
    }
   ],
   "source": [
    "import plotly.plotly as py\n",
    "import plotly.graph_objs as go\n",
    "from plotly.offline import init_notebook_mode, iplot\n",
    "init_notebook_mode(connected=True)"
   ]
  },
  {
   "cell_type": "code",
   "execution_count": 53,
   "metadata": {
    "scrolled": false
   },
   "outputs": [
    {
     "data": {
      "application/vnd.plotly.v1+json": {
       "data": [
        {
         "name": "Einde aan armoede",
         "orientation": "h",
         "type": "bar",
         "x": [
          6.382978723404255,
          0.49261083743842365,
          7.076350093109869,
          0,
          1.03397341211226,
          0,
          0.4694835680751174,
          2.137468566638726,
          0,
          0.42194092827004215,
          1.407884151246983,
          0.10626992561105207
         ],
         "y": [
          "50plus",
          "cda",
          "christenunie",
          "d66",
          "groenlinks",
          "klein",
          "partijvoordedieren",
          "pvda",
          "pvv",
          "sgp",
          "sp",
          "vvd"
         ]
        },
        {
         "name": "Einde aan honger",
         "orientation": "h",
         "type": "bar",
         "x": [
          6.382978723404255,
          4.926108374384237,
          5.21415270018622,
          4.472049689440994,
          2.658788774002954,
          0,
          12.832550860719873,
          3.520536462699078,
          2.460850111856823,
          3.375527426160337,
          3.9420756234915526,
          4.250797024442083
         ],
         "y": [
          "50plus",
          "cda",
          "christenunie",
          "d66",
          "groenlinks",
          "klein",
          "partijvoordedieren",
          "pvda",
          "pvv",
          "sgp",
          "sp",
          "vvd"
         ]
        },
        {
         "name": "Gezondheid en welzijn",
         "orientation": "h",
         "type": "bar",
         "x": [
          8.51063829787234,
          8.275862068965518,
          5.21415270018622,
          10.434782608695652,
          5.612998522895126,
          10.714285714285714,
          5.790297339593114,
          10.645431684828164,
          6.935123042505594,
          5.9071729957805905,
          14.440868865647627,
          4.675876726886291
         ],
         "y": [
          "50plus",
          "cda",
          "christenunie",
          "d66",
          "groenlinks",
          "klein",
          "partijvoordedieren",
          "pvda",
          "pvv",
          "sgp",
          "sp",
          "vvd"
         ]
        },
        {
         "name": "Goed onderwijs",
         "orientation": "h",
         "type": "bar",
         "x": [
          8.51063829787234,
          8.96551724137931,
          5.400372439478584,
          8.695652173913043,
          6.056129985228951,
          3.571428571428571,
          1.5649452269170578,
          8.59178541492037,
          3.131991051454139,
          3.79746835443038,
          12.469831053901851,
          4.675876726886291
         ],
         "y": [
          "50plus",
          "cda",
          "christenunie",
          "d66",
          "groenlinks",
          "klein",
          "partijvoordedieren",
          "pvda",
          "pvv",
          "sgp",
          "sp",
          "vvd"
         ]
        },
        {
         "name": "Vrouwen en mannen gelijk",
         "orientation": "h",
         "type": "bar",
         "x": [
          6.382978723404255,
          3.3497536945812803,
          9.124767225325884,
          2.732919254658385,
          5.022156573116692,
          3.571428571428571,
          2.0344287949921753,
          8.92707460184409,
          3.691275167785235,
          9.282700421940929,
          5.913113435237329,
          2.5504782146652496
         ],
         "y": [
          "50plus",
          "cda",
          "christenunie",
          "d66",
          "groenlinks",
          "klein",
          "partijvoordedieren",
          "pvda",
          "pvv",
          "sgp",
          "sp",
          "vvd"
         ]
        },
        {
         "name": "Schoon drinkwater en goede sanitaire voorzieningen",
         "orientation": "h",
         "type": "bar",
         "x": [
          6.382978723404255,
          3.74384236453202,
          3.165735567970205,
          4.968944099378882,
          4.431314623338257,
          3.571428571428571,
          6.259780907668231,
          3.4367141659681475,
          2.1252796420581657,
          2.109704641350211,
          4.14320193081255,
          4.038257173219979
         ],
         "y": [
          "50plus",
          "cda",
          "christenunie",
          "d66",
          "groenlinks",
          "klein",
          "partijvoordedieren",
          "pvda",
          "pvv",
          "sgp",
          "sp",
          "vvd"
         ]
        },
        {
         "name": "Duurzame en betaalbare energie",
         "orientation": "h",
         "type": "bar",
         "x": [
          0,
          5.517241379310345,
          4.655493482309125,
          4.84472049689441,
          10.19202363367799,
          10.714285714285714,
          3.599374021909233,
          3.6881810561609383,
          7.046979865771812,
          2.109704641350211,
          3.4191472244569585,
          6.588735387885228
         ],
         "y": [
          "50plus",
          "cda",
          "christenunie",
          "d66",
          "groenlinks",
          "klein",
          "partijvoordedieren",
          "pvda",
          "pvv",
          "sgp",
          "sp",
          "vvd"
         ]
        },
        {
         "name": "Fatsoenlijke banen en economische groei",
         "orientation": "h",
         "type": "bar",
         "x": [
          4.25531914893617,
          6.798029556650246,
          8.007448789571695,
          4.596273291925466,
          6.20384047267356,
          3.571428571428571,
          3.1298904538341157,
          11.81894383906119,
          2.796420581655481,
          1.6877637130801686,
          8.527755430410297,
          2.763018065887354
         ],
         "y": [
          "50plus",
          "cda",
          "christenunie",
          "d66",
          "groenlinks",
          "klein",
          "partijvoordedieren",
          "pvda",
          "pvv",
          "sgp",
          "sp",
          "vvd"
         ]
        },
        {
         "name": "innovatie en duurzame infrastructuur",
         "orientation": "h",
         "type": "bar",
         "x": [
          0,
          0.8866995073891626,
          0.5586592178770949,
          1.8633540372670807,
          3.5450516986706058,
          0,
          1.4084507042253522,
          0.9220452640402346,
          0.6711409395973155,
          0,
          1.2872083668543846,
          1.7003188097768331
         ],
         "y": [
          "50plus",
          "cda",
          "christenunie",
          "d66",
          "groenlinks",
          "klein",
          "partijvoordedieren",
          "pvda",
          "pvv",
          "sgp",
          "sp",
          "vvd"
         ]
        },
        {
         "name": "Minder ongelijkheid",
         "orientation": "h",
         "type": "bar",
         "x": [
          31.914893617021278,
          8.768472906403941,
          14.711359404096836,
          13.664596273291925,
          11.521418020679468,
          17.857142857142858,
          0.9389671361502347,
          12.196144174350378,
          14.876957494407158,
          19.40928270042194,
          6.918744971842317,
          9.77683315621679
         ],
         "y": [
          "50plus",
          "cda",
          "christenunie",
          "d66",
          "groenlinks",
          "klein",
          "partijvoordedieren",
          "pvda",
          "pvv",
          "sgp",
          "sp",
          "vvd"
         ]
        },
        {
         "name": "Veilige en duurzame steden",
         "orientation": "h",
         "type": "bar",
         "x": [
          0,
          5.517241379310345,
          1.86219739292365,
          3.229813664596273,
          2.2156573116691285,
          3.571428571428571,
          2.660406885758998,
          3.478625314333613,
          1.5659955257270695,
          2.109704641350211,
          1.6492357200321803,
          5.419766206163656
         ],
         "y": [
          "50plus",
          "cda",
          "christenunie",
          "d66",
          "groenlinks",
          "klein",
          "partijvoordedieren",
          "pvda",
          "pvv",
          "sgp",
          "sp",
          "vvd"
         ]
        },
        {
         "name": "Duurzame consumptie en productie",
         "orientation": "h",
         "type": "bar",
         "x": [
          0,
          1.1822660098522169,
          4.655493482309125,
          2.608695652173913,
          2.511078286558346,
          0,
          4.694835680751173,
          1.8440905280804691,
          1.342281879194631,
          0.8438818565400843,
          2.373290426387771,
          2.869287991498406
         ],
         "y": [
          "50plus",
          "cda",
          "christenunie",
          "d66",
          "groenlinks",
          "klein",
          "partijvoordedieren",
          "pvda",
          "pvv",
          "sgp",
          "sp",
          "vvd"
         ]
        },
        {
         "name": "Klimaatverandering aanpakken",
         "orientation": "h",
         "type": "bar",
         "x": [
          0,
          2.955665024630542,
          1.48975791433892,
          4.472049689440994,
          5.317577548005908,
          0,
          7.668231611893583,
          1.9698239731768652,
          2.348993288590604,
          1.6877637130801686,
          3.4995977473853577,
          5.63230605738576
         ],
         "y": [
          "50plus",
          "cda",
          "christenunie",
          "d66",
          "groenlinks",
          "klein",
          "partijvoordedieren",
          "pvda",
          "pvv",
          "sgp",
          "sp",
          "vvd"
         ]
        },
        {
         "name": "Bescherming van ze�en en oceanen",
         "orientation": "h",
         "type": "bar",
         "x": [
          14.893617021276595,
          23.448275862068964,
          13.03538175046555,
          18.385093167701864,
          13.884785819793205,
          35.714285714285715,
          17.370892018779344,
          16.093880972338642,
          16.10738255033557,
          21.940928270042196,
          16.8141592920354,
          24.12327311370882
         ],
         "y": [
          "50plus",
          "cda",
          "christenunie",
          "d66",
          "groenlinks",
          "klein",
          "partijvoordedieren",
          "pvda",
          "pvv",
          "sgp",
          "sp",
          "vvd"
         ]
        },
        {
         "name": "Herstel ecosystemen en behoud biodiversiteit",
         "orientation": "h",
         "type": "bar",
         "x": [
          0,
          4.630541871921182,
          3.910614525139665,
          3.602484472049689,
          3.10192023633678,
          0,
          25.039123630672925,
          1.5507124895222129,
          1.342281879194631,
          4.641350210970464,
          2.4537409493161704,
          4.038257173219979
         ],
         "y": [
          "50plus",
          "cda",
          "christenunie",
          "d66",
          "groenlinks",
          "klein",
          "partijvoordedieren",
          "pvda",
          "pvv",
          "sgp",
          "sp",
          "vvd"
         ]
        },
        {
         "name": "Vrede, veiligheid en rechtvaardigheid",
         "orientation": "h",
         "type": "bar",
         "x": [
          6.382978723404255,
          6.798029556650246,
          7.82122905027933,
          6.211180124223603,
          12.703101920236337,
          3.571428571428571,
          3.4428794992175273,
          5.616093880972339,
          15.548098434004473,
          15.18987341772152,
          7.1198712791633145,
          7.863974495217853
         ],
         "y": [
          "50plus",
          "cda",
          "christenunie",
          "d66",
          "groenlinks",
          "klein",
          "partijvoordedieren",
          "pvda",
          "pvv",
          "sgp",
          "sp",
          "vvd"
         ]
        },
        {
         "name": "Partnerschappen voor de doelen",
         "orientation": "h",
         "type": "bar",
         "x": [
          0,
          3.74384236453202,
          4.0968342644320295,
          5.217391304347826,
          3.9881831610044314,
          3.571428571428571,
          1.0954616588419406,
          3.562447611064543,
          18.008948545861298,
          5.485232067510549,
          3.620273531777957,
          8.926673751328375
         ],
         "y": [
          "50plus",
          "cda",
          "christenunie",
          "d66",
          "groenlinks",
          "klein",
          "partijvoordedieren",
          "pvda",
          "pvv",
          "sgp",
          "sp",
          "vvd"
         ]
        }
       ],
       "layout": {
        "barmode": "stack",
        "title": "% Questions per SDG"
       }
      },
      "text/html": [
       "<div id=\"d6d2a85b-5114-4c73-a669-08c99894415f\" style=\"height: 525px; width: 100%;\" class=\"plotly-graph-div\"></div><script type=\"text/javascript\">require([\"plotly\"], function(Plotly) { window.PLOTLYENV=window.PLOTLYENV || {};window.PLOTLYENV.BASE_URL=\"https://plot.ly\";Plotly.newPlot(\"d6d2a85b-5114-4c73-a669-08c99894415f\", [{\"type\": \"bar\", \"y\": [\"50plus\", \"cda\", \"christenunie\", \"d66\", \"groenlinks\", \"klein\", \"partijvoordedieren\", \"pvda\", \"pvv\", \"sgp\", \"sp\", \"vvd\"], \"x\": [6.382978723404255, 0.49261083743842365, 7.076350093109869, 0.0, 1.03397341211226, 0.0, 0.4694835680751174, 2.137468566638726, 0.0, 0.42194092827004215, 1.407884151246983, 0.10626992561105207], \"name\": \"Einde aan armoede\", \"orientation\": \"h\"}, {\"type\": \"bar\", \"y\": [\"50plus\", \"cda\", \"christenunie\", \"d66\", \"groenlinks\", \"klein\", \"partijvoordedieren\", \"pvda\", \"pvv\", \"sgp\", \"sp\", \"vvd\"], \"x\": [6.382978723404255, 4.926108374384237, 5.21415270018622, 4.472049689440994, 2.658788774002954, 0.0, 12.832550860719873, 3.520536462699078, 2.460850111856823, 3.375527426160337, 3.9420756234915526, 4.250797024442083], \"name\": \"Einde aan honger\", \"orientation\": \"h\"}, {\"type\": \"bar\", \"y\": [\"50plus\", \"cda\", \"christenunie\", \"d66\", \"groenlinks\", \"klein\", \"partijvoordedieren\", \"pvda\", \"pvv\", \"sgp\", \"sp\", \"vvd\"], \"x\": [8.51063829787234, 8.275862068965518, 5.21415270018622, 10.434782608695652, 5.612998522895126, 10.714285714285714, 5.790297339593114, 10.645431684828164, 6.935123042505594, 5.9071729957805905, 14.440868865647627, 4.675876726886291], \"name\": \"Gezondheid en welzijn\", \"orientation\": \"h\"}, {\"type\": \"bar\", \"y\": [\"50plus\", \"cda\", \"christenunie\", \"d66\", \"groenlinks\", \"klein\", \"partijvoordedieren\", \"pvda\", \"pvv\", \"sgp\", \"sp\", \"vvd\"], \"x\": [8.51063829787234, 8.96551724137931, 5.400372439478584, 8.695652173913043, 6.056129985228951, 3.571428571428571, 1.5649452269170578, 8.59178541492037, 3.131991051454139, 3.79746835443038, 12.469831053901851, 4.675876726886291], \"name\": \"Goed onderwijs\", \"orientation\": \"h\"}, {\"type\": \"bar\", \"y\": [\"50plus\", \"cda\", \"christenunie\", \"d66\", \"groenlinks\", \"klein\", \"partijvoordedieren\", \"pvda\", \"pvv\", \"sgp\", \"sp\", \"vvd\"], \"x\": [6.382978723404255, 3.3497536945812803, 9.124767225325884, 2.732919254658385, 5.022156573116692, 3.571428571428571, 2.0344287949921753, 8.92707460184409, 3.691275167785235, 9.282700421940929, 5.913113435237329, 2.5504782146652496], \"name\": \"Vrouwen en mannen gelijk\", \"orientation\": \"h\"}, {\"type\": \"bar\", \"y\": [\"50plus\", \"cda\", \"christenunie\", \"d66\", \"groenlinks\", \"klein\", \"partijvoordedieren\", \"pvda\", \"pvv\", \"sgp\", \"sp\", \"vvd\"], \"x\": [6.382978723404255, 3.74384236453202, 3.165735567970205, 4.968944099378882, 4.431314623338257, 3.571428571428571, 6.259780907668231, 3.4367141659681475, 2.1252796420581657, 2.109704641350211, 4.14320193081255, 4.038257173219979], \"name\": \"Schoon drinkwater en goede sanitaire voorzieningen\", \"orientation\": \"h\"}, {\"type\": \"bar\", \"y\": [\"50plus\", \"cda\", \"christenunie\", \"d66\", \"groenlinks\", \"klein\", \"partijvoordedieren\", \"pvda\", \"pvv\", \"sgp\", \"sp\", \"vvd\"], \"x\": [0.0, 5.517241379310345, 4.655493482309125, 4.84472049689441, 10.19202363367799, 10.714285714285714, 3.599374021909233, 3.6881810561609383, 7.046979865771812, 2.109704641350211, 3.4191472244569585, 6.588735387885228], \"name\": \"Duurzame en betaalbare energie\", \"orientation\": \"h\"}, {\"type\": \"bar\", \"y\": [\"50plus\", \"cda\", \"christenunie\", \"d66\", \"groenlinks\", \"klein\", \"partijvoordedieren\", \"pvda\", \"pvv\", \"sgp\", \"sp\", \"vvd\"], \"x\": [4.25531914893617, 6.798029556650246, 8.007448789571695, 4.596273291925466, 6.20384047267356, 3.571428571428571, 3.1298904538341157, 11.81894383906119, 2.796420581655481, 1.6877637130801686, 8.527755430410297, 2.763018065887354], \"name\": \"Fatsoenlijke banen en economische groei\", \"orientation\": \"h\"}, {\"type\": \"bar\", \"y\": [\"50plus\", \"cda\", \"christenunie\", \"d66\", \"groenlinks\", \"klein\", \"partijvoordedieren\", \"pvda\", \"pvv\", \"sgp\", \"sp\", \"vvd\"], \"x\": [0.0, 0.8866995073891626, 0.5586592178770949, 1.8633540372670807, 3.5450516986706058, 0.0, 1.4084507042253522, 0.9220452640402346, 0.6711409395973155, 0.0, 1.2872083668543846, 1.7003188097768331], \"name\": \"innovatie en duurzame infrastructuur\", \"orientation\": \"h\"}, {\"type\": \"bar\", \"y\": [\"50plus\", \"cda\", \"christenunie\", \"d66\", \"groenlinks\", \"klein\", \"partijvoordedieren\", \"pvda\", \"pvv\", \"sgp\", \"sp\", \"vvd\"], \"x\": [31.914893617021278, 8.768472906403941, 14.711359404096836, 13.664596273291925, 11.521418020679468, 17.857142857142858, 0.9389671361502347, 12.196144174350378, 14.876957494407158, 19.40928270042194, 6.918744971842317, 9.77683315621679], \"name\": \"Minder ongelijkheid\", \"orientation\": \"h\"}, {\"type\": \"bar\", \"y\": [\"50plus\", \"cda\", \"christenunie\", \"d66\", \"groenlinks\", \"klein\", \"partijvoordedieren\", \"pvda\", \"pvv\", \"sgp\", \"sp\", \"vvd\"], \"x\": [0.0, 5.517241379310345, 1.86219739292365, 3.229813664596273, 2.2156573116691285, 3.571428571428571, 2.660406885758998, 3.478625314333613, 1.5659955257270695, 2.109704641350211, 1.6492357200321803, 5.419766206163656], \"name\": \"Veilige en duurzame steden\", \"orientation\": \"h\"}, {\"type\": \"bar\", \"y\": [\"50plus\", \"cda\", \"christenunie\", \"d66\", \"groenlinks\", \"klein\", \"partijvoordedieren\", \"pvda\", \"pvv\", \"sgp\", \"sp\", \"vvd\"], \"x\": [0.0, 1.1822660098522169, 4.655493482309125, 2.608695652173913, 2.511078286558346, 0.0, 4.694835680751173, 1.8440905280804691, 1.342281879194631, 0.8438818565400843, 2.373290426387771, 2.869287991498406], \"name\": \"Duurzame consumptie en productie\", \"orientation\": \"h\"}, {\"type\": \"bar\", \"y\": [\"50plus\", \"cda\", \"christenunie\", \"d66\", \"groenlinks\", \"klein\", \"partijvoordedieren\", \"pvda\", \"pvv\", \"sgp\", \"sp\", \"vvd\"], \"x\": [0.0, 2.955665024630542, 1.48975791433892, 4.472049689440994, 5.317577548005908, 0.0, 7.668231611893583, 1.9698239731768652, 2.348993288590604, 1.6877637130801686, 3.4995977473853577, 5.63230605738576], \"name\": \"Klimaatverandering aanpakken\", \"orientation\": \"h\"}, {\"type\": \"bar\", \"y\": [\"50plus\", \"cda\", \"christenunie\", \"d66\", \"groenlinks\", \"klein\", \"partijvoordedieren\", \"pvda\", \"pvv\", \"sgp\", \"sp\", \"vvd\"], \"x\": [14.893617021276595, 23.448275862068964, 13.03538175046555, 18.385093167701864, 13.884785819793205, 35.714285714285715, 17.370892018779344, 16.093880972338642, 16.10738255033557, 21.940928270042196, 16.8141592920354, 24.12327311370882], \"name\": \"Bescherming van ze\\ufffden en oceanen\", \"orientation\": \"h\"}, {\"type\": \"bar\", \"y\": [\"50plus\", \"cda\", \"christenunie\", \"d66\", \"groenlinks\", \"klein\", \"partijvoordedieren\", \"pvda\", \"pvv\", \"sgp\", \"sp\", \"vvd\"], \"x\": [0.0, 4.630541871921182, 3.910614525139665, 3.602484472049689, 3.10192023633678, 0.0, 25.039123630672925, 1.5507124895222129, 1.342281879194631, 4.641350210970464, 2.4537409493161704, 4.038257173219979], \"name\": \"Herstel ecosystemen en behoud biodiversiteit\", \"orientation\": \"h\"}, {\"type\": \"bar\", \"y\": [\"50plus\", \"cda\", \"christenunie\", \"d66\", \"groenlinks\", \"klein\", \"partijvoordedieren\", \"pvda\", \"pvv\", \"sgp\", \"sp\", \"vvd\"], \"x\": [6.382978723404255, 6.798029556650246, 7.82122905027933, 6.211180124223603, 12.703101920236337, 3.571428571428571, 3.4428794992175273, 5.616093880972339, 15.548098434004473, 15.18987341772152, 7.1198712791633145, 7.863974495217853], \"name\": \"Vrede, veiligheid en rechtvaardigheid\", \"orientation\": \"h\"}, {\"type\": \"bar\", \"y\": [\"50plus\", \"cda\", \"christenunie\", \"d66\", \"groenlinks\", \"klein\", \"partijvoordedieren\", \"pvda\", \"pvv\", \"sgp\", \"sp\", \"vvd\"], \"x\": [0.0, 3.74384236453202, 4.0968342644320295, 5.217391304347826, 3.9881831610044314, 3.571428571428571, 1.0954616588419406, 3.562447611064543, 18.008948545861298, 5.485232067510549, 3.620273531777957, 8.926673751328375], \"name\": \"Partnerschappen voor de doelen\", \"orientation\": \"h\"}], {\"barmode\": \"stack\", \"title\": \"% Questions per SDG\"}, {\"showLink\": true, \"linkText\": \"Export to plot.ly\"})});</script>"
      ],
      "text/vnd.plotly.v1+html": [
       "<div id=\"d6d2a85b-5114-4c73-a669-08c99894415f\" style=\"height: 525px; width: 100%;\" class=\"plotly-graph-div\"></div><script type=\"text/javascript\">require([\"plotly\"], function(Plotly) { window.PLOTLYENV=window.PLOTLYENV || {};window.PLOTLYENV.BASE_URL=\"https://plot.ly\";Plotly.newPlot(\"d6d2a85b-5114-4c73-a669-08c99894415f\", [{\"type\": \"bar\", \"y\": [\"50plus\", \"cda\", \"christenunie\", \"d66\", \"groenlinks\", \"klein\", \"partijvoordedieren\", \"pvda\", \"pvv\", \"sgp\", \"sp\", \"vvd\"], \"x\": [6.382978723404255, 0.49261083743842365, 7.076350093109869, 0.0, 1.03397341211226, 0.0, 0.4694835680751174, 2.137468566638726, 0.0, 0.42194092827004215, 1.407884151246983, 0.10626992561105207], \"name\": \"Einde aan armoede\", \"orientation\": \"h\"}, {\"type\": \"bar\", \"y\": [\"50plus\", \"cda\", \"christenunie\", \"d66\", \"groenlinks\", \"klein\", \"partijvoordedieren\", \"pvda\", \"pvv\", \"sgp\", \"sp\", \"vvd\"], \"x\": [6.382978723404255, 4.926108374384237, 5.21415270018622, 4.472049689440994, 2.658788774002954, 0.0, 12.832550860719873, 3.520536462699078, 2.460850111856823, 3.375527426160337, 3.9420756234915526, 4.250797024442083], \"name\": \"Einde aan honger\", \"orientation\": \"h\"}, {\"type\": \"bar\", \"y\": [\"50plus\", \"cda\", \"christenunie\", \"d66\", \"groenlinks\", \"klein\", \"partijvoordedieren\", \"pvda\", \"pvv\", \"sgp\", \"sp\", \"vvd\"], \"x\": [8.51063829787234, 8.275862068965518, 5.21415270018622, 10.434782608695652, 5.612998522895126, 10.714285714285714, 5.790297339593114, 10.645431684828164, 6.935123042505594, 5.9071729957805905, 14.440868865647627, 4.675876726886291], \"name\": \"Gezondheid en welzijn\", \"orientation\": \"h\"}, {\"type\": \"bar\", \"y\": [\"50plus\", \"cda\", \"christenunie\", \"d66\", \"groenlinks\", \"klein\", \"partijvoordedieren\", \"pvda\", \"pvv\", \"sgp\", \"sp\", \"vvd\"], \"x\": [8.51063829787234, 8.96551724137931, 5.400372439478584, 8.695652173913043, 6.056129985228951, 3.571428571428571, 1.5649452269170578, 8.59178541492037, 3.131991051454139, 3.79746835443038, 12.469831053901851, 4.675876726886291], \"name\": \"Goed onderwijs\", \"orientation\": \"h\"}, {\"type\": \"bar\", \"y\": [\"50plus\", \"cda\", \"christenunie\", \"d66\", \"groenlinks\", \"klein\", \"partijvoordedieren\", \"pvda\", \"pvv\", \"sgp\", \"sp\", \"vvd\"], \"x\": [6.382978723404255, 3.3497536945812803, 9.124767225325884, 2.732919254658385, 5.022156573116692, 3.571428571428571, 2.0344287949921753, 8.92707460184409, 3.691275167785235, 9.282700421940929, 5.913113435237329, 2.5504782146652496], \"name\": \"Vrouwen en mannen gelijk\", \"orientation\": \"h\"}, {\"type\": \"bar\", \"y\": [\"50plus\", \"cda\", \"christenunie\", \"d66\", \"groenlinks\", \"klein\", \"partijvoordedieren\", \"pvda\", \"pvv\", \"sgp\", \"sp\", \"vvd\"], \"x\": [6.382978723404255, 3.74384236453202, 3.165735567970205, 4.968944099378882, 4.431314623338257, 3.571428571428571, 6.259780907668231, 3.4367141659681475, 2.1252796420581657, 2.109704641350211, 4.14320193081255, 4.038257173219979], \"name\": \"Schoon drinkwater en goede sanitaire voorzieningen\", \"orientation\": \"h\"}, {\"type\": \"bar\", \"y\": [\"50plus\", \"cda\", \"christenunie\", \"d66\", \"groenlinks\", \"klein\", \"partijvoordedieren\", \"pvda\", \"pvv\", \"sgp\", \"sp\", \"vvd\"], \"x\": [0.0, 5.517241379310345, 4.655493482309125, 4.84472049689441, 10.19202363367799, 10.714285714285714, 3.599374021909233, 3.6881810561609383, 7.046979865771812, 2.109704641350211, 3.4191472244569585, 6.588735387885228], \"name\": \"Duurzame en betaalbare energie\", \"orientation\": \"h\"}, {\"type\": \"bar\", \"y\": [\"50plus\", \"cda\", \"christenunie\", \"d66\", \"groenlinks\", \"klein\", \"partijvoordedieren\", \"pvda\", \"pvv\", \"sgp\", \"sp\", \"vvd\"], \"x\": [4.25531914893617, 6.798029556650246, 8.007448789571695, 4.596273291925466, 6.20384047267356, 3.571428571428571, 3.1298904538341157, 11.81894383906119, 2.796420581655481, 1.6877637130801686, 8.527755430410297, 2.763018065887354], \"name\": \"Fatsoenlijke banen en economische groei\", \"orientation\": \"h\"}, {\"type\": \"bar\", \"y\": [\"50plus\", \"cda\", \"christenunie\", \"d66\", \"groenlinks\", \"klein\", \"partijvoordedieren\", \"pvda\", \"pvv\", \"sgp\", \"sp\", \"vvd\"], \"x\": [0.0, 0.8866995073891626, 0.5586592178770949, 1.8633540372670807, 3.5450516986706058, 0.0, 1.4084507042253522, 0.9220452640402346, 0.6711409395973155, 0.0, 1.2872083668543846, 1.7003188097768331], \"name\": \"innovatie en duurzame infrastructuur\", \"orientation\": \"h\"}, {\"type\": \"bar\", \"y\": [\"50plus\", \"cda\", \"christenunie\", \"d66\", \"groenlinks\", \"klein\", \"partijvoordedieren\", \"pvda\", \"pvv\", \"sgp\", \"sp\", \"vvd\"], \"x\": [31.914893617021278, 8.768472906403941, 14.711359404096836, 13.664596273291925, 11.521418020679468, 17.857142857142858, 0.9389671361502347, 12.196144174350378, 14.876957494407158, 19.40928270042194, 6.918744971842317, 9.77683315621679], \"name\": \"Minder ongelijkheid\", \"orientation\": \"h\"}, {\"type\": \"bar\", \"y\": [\"50plus\", \"cda\", \"christenunie\", \"d66\", \"groenlinks\", \"klein\", \"partijvoordedieren\", \"pvda\", \"pvv\", \"sgp\", \"sp\", \"vvd\"], \"x\": [0.0, 5.517241379310345, 1.86219739292365, 3.229813664596273, 2.2156573116691285, 3.571428571428571, 2.660406885758998, 3.478625314333613, 1.5659955257270695, 2.109704641350211, 1.6492357200321803, 5.419766206163656], \"name\": \"Veilige en duurzame steden\", \"orientation\": \"h\"}, {\"type\": \"bar\", \"y\": [\"50plus\", \"cda\", \"christenunie\", \"d66\", \"groenlinks\", \"klein\", \"partijvoordedieren\", \"pvda\", \"pvv\", \"sgp\", \"sp\", \"vvd\"], \"x\": [0.0, 1.1822660098522169, 4.655493482309125, 2.608695652173913, 2.511078286558346, 0.0, 4.694835680751173, 1.8440905280804691, 1.342281879194631, 0.8438818565400843, 2.373290426387771, 2.869287991498406], \"name\": \"Duurzame consumptie en productie\", \"orientation\": \"h\"}, {\"type\": \"bar\", \"y\": [\"50plus\", \"cda\", \"christenunie\", \"d66\", \"groenlinks\", \"klein\", \"partijvoordedieren\", \"pvda\", \"pvv\", \"sgp\", \"sp\", \"vvd\"], \"x\": [0.0, 2.955665024630542, 1.48975791433892, 4.472049689440994, 5.317577548005908, 0.0, 7.668231611893583, 1.9698239731768652, 2.348993288590604, 1.6877637130801686, 3.4995977473853577, 5.63230605738576], \"name\": \"Klimaatverandering aanpakken\", \"orientation\": \"h\"}, {\"type\": \"bar\", \"y\": [\"50plus\", \"cda\", \"christenunie\", \"d66\", \"groenlinks\", \"klein\", \"partijvoordedieren\", \"pvda\", \"pvv\", \"sgp\", \"sp\", \"vvd\"], \"x\": [14.893617021276595, 23.448275862068964, 13.03538175046555, 18.385093167701864, 13.884785819793205, 35.714285714285715, 17.370892018779344, 16.093880972338642, 16.10738255033557, 21.940928270042196, 16.8141592920354, 24.12327311370882], \"name\": \"Bescherming van ze\\ufffden en oceanen\", \"orientation\": \"h\"}, {\"type\": \"bar\", \"y\": [\"50plus\", \"cda\", \"christenunie\", \"d66\", \"groenlinks\", \"klein\", \"partijvoordedieren\", \"pvda\", \"pvv\", \"sgp\", \"sp\", \"vvd\"], \"x\": [0.0, 4.630541871921182, 3.910614525139665, 3.602484472049689, 3.10192023633678, 0.0, 25.039123630672925, 1.5507124895222129, 1.342281879194631, 4.641350210970464, 2.4537409493161704, 4.038257173219979], \"name\": \"Herstel ecosystemen en behoud biodiversiteit\", \"orientation\": \"h\"}, {\"type\": \"bar\", \"y\": [\"50plus\", \"cda\", \"christenunie\", \"d66\", \"groenlinks\", \"klein\", \"partijvoordedieren\", \"pvda\", \"pvv\", \"sgp\", \"sp\", \"vvd\"], \"x\": [6.382978723404255, 6.798029556650246, 7.82122905027933, 6.211180124223603, 12.703101920236337, 3.571428571428571, 3.4428794992175273, 5.616093880972339, 15.548098434004473, 15.18987341772152, 7.1198712791633145, 7.863974495217853], \"name\": \"Vrede, veiligheid en rechtvaardigheid\", \"orientation\": \"h\"}, {\"type\": \"bar\", \"y\": [\"50plus\", \"cda\", \"christenunie\", \"d66\", \"groenlinks\", \"klein\", \"partijvoordedieren\", \"pvda\", \"pvv\", \"sgp\", \"sp\", \"vvd\"], \"x\": [0.0, 3.74384236453202, 4.0968342644320295, 5.217391304347826, 3.9881831610044314, 3.571428571428571, 1.0954616588419406, 3.562447611064543, 18.008948545861298, 5.485232067510549, 3.620273531777957, 8.926673751328375], \"name\": \"Partnerschappen voor de doelen\", \"orientation\": \"h\"}], {\"barmode\": \"stack\", \"title\": \"% Questions per SDG\"}, {\"showLink\": true, \"linkText\": \"Export to plot.ly\"})});</script>"
      ]
     },
     "metadata": {},
     "output_type": "display_data"
    }
   ],
   "source": [
    "data = []\n",
    "for c in df.columns:\n",
    "\n",
    "    data.append(go.Bar(\n",
    "        y=df.index.values,\n",
    "        x=df[c].values,\n",
    "        name=c,\n",
    "        orientation = 'h',\n",
    "    ))\n",
    "\n",
    "layout = go.Layout(\n",
    "    barmode='stack',\n",
    "    title='% Questions per SDG'\n",
    ")\n",
    "\n",
    "fig = go.Figure(data=data, layout=layout)\n",
    "iplot(fig, filename='grouped-bar')"
   ]
  },
  {
   "cell_type": "code",
   "execution_count": null,
   "metadata": {
    "collapsed": true
   },
   "outputs": [],
   "source": []
  },
  {
   "cell_type": "code",
   "execution_count": null,
   "metadata": {
    "collapsed": true
   },
   "outputs": [],
   "source": []
  }
 ],
 "metadata": {
  "kernelspec": {
   "display_name": "Python 3",
   "language": "python",
   "name": "python3"
  },
  "language_info": {
   "codemirror_mode": {
    "name": "ipython",
    "version": 3
   },
   "file_extension": ".py",
   "mimetype": "text/x-python",
   "name": "python",
   "nbconvert_exporter": "python",
   "pygments_lexer": "ipython3",
   "version": "3.6.1"
  }
 },
 "nbformat": 4,
 "nbformat_minor": 2
}
