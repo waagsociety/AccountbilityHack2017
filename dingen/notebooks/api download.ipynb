{
 "cells": [
  {
   "cell_type": "code",
   "execution_count": 122,
   "metadata": {},
   "outputs": [
    {
     "name": "stdout",
     "output_type": "stream",
     "text": [
      "try 0 got 1000 results\n",
      "try 1 got 1000 results\n",
      "try 2 got 1000 results\n",
      "try 3 got 1000 results\n",
      "try 4 got 1000 results\n",
      "try 5 got 1000 results\n",
      "try 6 got 1000 results\n",
      "try 7 got 1000 results\n",
      "try 8 got 1000 results\n",
      "try 9 got 1000 results\n",
      "try 10 got 1000 results\n",
      "try 11 got 1000 results\n",
      "try 12 got 1000 results\n",
      "try 13 got 1000 results\n",
      "try 14 got 1000 results\n",
      "try 15 got 1000 results\n",
      "try 16 got 1000 results\n",
      "try 17 got 1000 results\n",
      "try 18 got 1000 results\n",
      "try 19 got 1000 results\n",
      "try 20 got 1000 results\n",
      "try 21 got 1000 results\n",
      "try 22 got 1000 results\n",
      "try 23 got 1000 results\n",
      "try 24 got 1000 results\n",
      "try 25 got 1000 results\n",
      "try 26 got 1000 results\n",
      "try 27 got 1000 results\n",
      "try 28 got 1000 results\n",
      "try 29 got 1000 results\n",
      "try 30 got 1000 results\n",
      "try 31 got 1000 results\n",
      "try 32 got 1000 results\n",
      "try 33 got 1000 results\n",
      "try 34 got 1000 results\n",
      "try 35 got 1000 results\n",
      "try 36 got 1000 results\n",
      "try 37 got 1000 results\n",
      "try 38 got 1000 results\n",
      "try 39 got 1000 results\n",
      "try 40 got 1000 results\n",
      "try 41 got 1000 results\n",
      "try 42 got 1000 results\n",
      "try 43 got 1000 results\n",
      "try 44 got 1000 results\n",
      "try 45 got 1000 results\n",
      "try 46 got 1000 results\n",
      "try 47 got 1000 results\n",
      "try 48 got 1000 results\n",
      "try 49 got 1000 results\n",
      "try 50 got 1000 results\n",
      "try 51 got 1000 results\n",
      "try 52 got 1000 results\n",
      "try 53 got 1000 results\n",
      "try 54 got 1000 results\n",
      "try 55 got 1000 results\n",
      "try 56 got 1000 results\n",
      "try 57 got 1000 results\n",
      "try 58 got 1000 results\n",
      "try 59 got 1000 results\n",
      "try 60 got 1000 results\n",
      "try 61 got 1000 results\n",
      "try 62 got 1000 results\n",
      "try 63 got 1000 results\n",
      "try 64 got 1000 results\n",
      "try 65 got 1000 results\n",
      "try 66 got 1000 results\n",
      "try 67 got 1000 results\n",
      "try 68 got 1000 results\n",
      "try 69 got 531 results\n"
     ]
    }
   ],
   "source": [
    "import requests\n",
    "# get 25 results,, download per 1000\n",
    "questions = []\n",
    "i=0\n",
    "while True:\n",
    "    d = requests.get(f'https://api.kamervragentracker.nl/v0/search?from={1000*i}&size=1000').json()\n",
    "    print('try', i, 'got', len(d['hits']['hits']), 'results')\n",
    "    questions.extend(d['hits']['hits'])\n",
    "    i += 1\n",
    "    if len(d['hits']['hits']) < 1000:\n",
    "        break"
   ]
  },
  {
   "cell_type": "code",
   "execution_count": 127,
   "metadata": {},
   "outputs": [],
   "source": [
    "with open('dump.json','w+') as file:\n",
    "    json.dump(questions, file)"
   ]
  }
 ],
 "metadata": {
  "kernelspec": {
   "display_name": "Python 3",
   "language": "python",
   "name": "python3"
  },
  "language_info": {
   "codemirror_mode": {
    "name": "ipython",
    "version": 3
   },
   "file_extension": ".py",
   "mimetype": "text/x-python",
   "name": "python",
   "nbconvert_exporter": "python",
   "pygments_lexer": "ipython3",
   "version": "3.6.1"
  }
 },
 "nbformat": 4,
 "nbformat_minor": 2
}
