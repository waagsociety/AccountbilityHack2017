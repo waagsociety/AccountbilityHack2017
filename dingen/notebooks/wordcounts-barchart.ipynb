{
 "cells": [
  {
   "cell_type": "code",
   "execution_count": 5,
   "metadata": {
    "collapsed": true,
    "scrolled": false
   },
   "outputs": [],
   "source": [
    "import pandas as pd\n",
    "from pprint import pprint"
   ]
  },
  {
   "cell_type": "code",
   "execution_count": 6,
   "metadata": {
    "scrolled": false
   },
   "outputs": [
    {
     "data": {
      "text/html": [
       "<div>\n",
       "<style>\n",
       "    .dataframe thead tr:only-child th {\n",
       "        text-align: right;\n",
       "    }\n",
       "\n",
       "    .dataframe thead th {\n",
       "        text-align: left;\n",
       "    }\n",
       "\n",
       "    .dataframe tbody tr th {\n",
       "        vertical-align: top;\n",
       "    }\n",
       "</style>\n",
       "<table border=\"1\" class=\"dataframe\">\n",
       "  <thead>\n",
       "    <tr style=\"text-align: right;\">\n",
       "      <th></th>\n",
       "      <th>armoede</th>\n",
       "      <th>duurzame consumptie</th>\n",
       "      <th>economische groei</th>\n",
       "      <th>ecosystemen</th>\n",
       "      <th>energie</th>\n",
       "      <th>gendergelijkheid</th>\n",
       "      <th>gezondheid</th>\n",
       "      <th>honger</th>\n",
       "      <th>innovatie</th>\n",
       "      <th>klimaatverandering</th>\n",
       "      <th>oceanen</th>\n",
       "      <th>onderwijs</th>\n",
       "      <th>ongelijkheid</th>\n",
       "      <th>partnerschappen</th>\n",
       "      <th>steden</th>\n",
       "      <th>vreedzame</th>\n",
       "      <th>water</th>\n",
       "    </tr>\n",
       "  </thead>\n",
       "  <tbody>\n",
       "    <tr>\n",
       "      <th>50plus</th>\n",
       "      <td>3.0</td>\n",
       "      <td>0.0</td>\n",
       "      <td>2.0</td>\n",
       "      <td>0.0</td>\n",
       "      <td>0.0</td>\n",
       "      <td>3.0</td>\n",
       "      <td>4.0</td>\n",
       "      <td>3.0</td>\n",
       "      <td>0.0</td>\n",
       "      <td>0.0</td>\n",
       "      <td>7.0</td>\n",
       "      <td>4.0</td>\n",
       "      <td>15.0</td>\n",
       "      <td>0.0</td>\n",
       "      <td>0.0</td>\n",
       "      <td>3.0</td>\n",
       "      <td>3.0</td>\n",
       "    </tr>\n",
       "    <tr>\n",
       "      <th>cda</th>\n",
       "      <td>5.0</td>\n",
       "      <td>12.0</td>\n",
       "      <td>69.0</td>\n",
       "      <td>47.0</td>\n",
       "      <td>56.0</td>\n",
       "      <td>34.0</td>\n",
       "      <td>84.0</td>\n",
       "      <td>50.0</td>\n",
       "      <td>9.0</td>\n",
       "      <td>30.0</td>\n",
       "      <td>238.0</td>\n",
       "      <td>91.0</td>\n",
       "      <td>89.0</td>\n",
       "      <td>38.0</td>\n",
       "      <td>56.0</td>\n",
       "      <td>69.0</td>\n",
       "      <td>38.0</td>\n",
       "    </tr>\n",
       "    <tr>\n",
       "      <th>christenunie</th>\n",
       "      <td>38.0</td>\n",
       "      <td>25.0</td>\n",
       "      <td>43.0</td>\n",
       "      <td>21.0</td>\n",
       "      <td>25.0</td>\n",
       "      <td>49.0</td>\n",
       "      <td>28.0</td>\n",
       "      <td>28.0</td>\n",
       "      <td>3.0</td>\n",
       "      <td>8.0</td>\n",
       "      <td>70.0</td>\n",
       "      <td>29.0</td>\n",
       "      <td>79.0</td>\n",
       "      <td>22.0</td>\n",
       "      <td>10.0</td>\n",
       "      <td>42.0</td>\n",
       "      <td>17.0</td>\n",
       "    </tr>\n",
       "    <tr>\n",
       "      <th>d66</th>\n",
       "      <td>0.0</td>\n",
       "      <td>21.0</td>\n",
       "      <td>37.0</td>\n",
       "      <td>29.0</td>\n",
       "      <td>39.0</td>\n",
       "      <td>22.0</td>\n",
       "      <td>84.0</td>\n",
       "      <td>36.0</td>\n",
       "      <td>15.0</td>\n",
       "      <td>36.0</td>\n",
       "      <td>148.0</td>\n",
       "      <td>70.0</td>\n",
       "      <td>110.0</td>\n",
       "      <td>42.0</td>\n",
       "      <td>26.0</td>\n",
       "      <td>50.0</td>\n",
       "      <td>40.0</td>\n",
       "    </tr>\n",
       "    <tr>\n",
       "      <th>groenlinks</th>\n",
       "      <td>7.0</td>\n",
       "      <td>17.0</td>\n",
       "      <td>42.0</td>\n",
       "      <td>21.0</td>\n",
       "      <td>69.0</td>\n",
       "      <td>34.0</td>\n",
       "      <td>38.0</td>\n",
       "      <td>18.0</td>\n",
       "      <td>24.0</td>\n",
       "      <td>36.0</td>\n",
       "      <td>94.0</td>\n",
       "      <td>41.0</td>\n",
       "      <td>78.0</td>\n",
       "      <td>27.0</td>\n",
       "      <td>15.0</td>\n",
       "      <td>86.0</td>\n",
       "      <td>30.0</td>\n",
       "    </tr>\n",
       "    <tr>\n",
       "      <th>groepbontes/vanklaveren</th>\n",
       "      <td>0.0</td>\n",
       "      <td>1.0</td>\n",
       "      <td>2.0</td>\n",
       "      <td>3.0</td>\n",
       "      <td>1.0</td>\n",
       "      <td>4.0</td>\n",
       "      <td>4.0</td>\n",
       "      <td>1.0</td>\n",
       "      <td>0.0</td>\n",
       "      <td>0.0</td>\n",
       "      <td>12.0</td>\n",
       "      <td>1.0</td>\n",
       "      <td>32.0</td>\n",
       "      <td>20.0</td>\n",
       "      <td>1.0</td>\n",
       "      <td>33.0</td>\n",
       "      <td>1.0</td>\n",
       "    </tr>\n",
       "    <tr>\n",
       "      <th>groepkuzu/öztürk</th>\n",
       "      <td>0.0</td>\n",
       "      <td>0.0</td>\n",
       "      <td>0.0</td>\n",
       "      <td>0.0</td>\n",
       "      <td>0.0</td>\n",
       "      <td>4.0</td>\n",
       "      <td>1.0</td>\n",
       "      <td>2.0</td>\n",
       "      <td>0.0</td>\n",
       "      <td>0.0</td>\n",
       "      <td>12.0</td>\n",
       "      <td>2.0</td>\n",
       "      <td>61.0</td>\n",
       "      <td>4.0</td>\n",
       "      <td>0.0</td>\n",
       "      <td>15.0</td>\n",
       "      <td>1.0</td>\n",
       "    </tr>\n",
       "    <tr>\n",
       "      <th>klein</th>\n",
       "      <td>0.0</td>\n",
       "      <td>0.0</td>\n",
       "      <td>1.0</td>\n",
       "      <td>0.0</td>\n",
       "      <td>3.0</td>\n",
       "      <td>1.0</td>\n",
       "      <td>3.0</td>\n",
       "      <td>0.0</td>\n",
       "      <td>0.0</td>\n",
       "      <td>0.0</td>\n",
       "      <td>10.0</td>\n",
       "      <td>1.0</td>\n",
       "      <td>5.0</td>\n",
       "      <td>1.0</td>\n",
       "      <td>1.0</td>\n",
       "      <td>1.0</td>\n",
       "      <td>1.0</td>\n",
       "    </tr>\n",
       "    <tr>\n",
       "      <th>partijvoordedieren</th>\n",
       "      <td>0.0</td>\n",
       "      <td>1.0</td>\n",
       "      <td>0.0</td>\n",
       "      <td>11.0</td>\n",
       "      <td>3.0</td>\n",
       "      <td>3.0</td>\n",
       "      <td>4.0</td>\n",
       "      <td>11.0</td>\n",
       "      <td>0.0</td>\n",
       "      <td>1.0</td>\n",
       "      <td>16.0</td>\n",
       "      <td>0.0</td>\n",
       "      <td>0.0</td>\n",
       "      <td>0.0</td>\n",
       "      <td>0.0</td>\n",
       "      <td>0.0</td>\n",
       "      <td>0.0</td>\n",
       "    </tr>\n",
       "    <tr>\n",
       "      <th>pvda</th>\n",
       "      <td>51.0</td>\n",
       "      <td>44.0</td>\n",
       "      <td>282.0</td>\n",
       "      <td>37.0</td>\n",
       "      <td>88.0</td>\n",
       "      <td>213.0</td>\n",
       "      <td>254.0</td>\n",
       "      <td>84.0</td>\n",
       "      <td>22.0</td>\n",
       "      <td>47.0</td>\n",
       "      <td>384.0</td>\n",
       "      <td>205.0</td>\n",
       "      <td>291.0</td>\n",
       "      <td>85.0</td>\n",
       "      <td>83.0</td>\n",
       "      <td>134.0</td>\n",
       "      <td>82.0</td>\n",
       "    </tr>\n",
       "    <tr>\n",
       "      <th>pvdd</th>\n",
       "      <td>3.0</td>\n",
       "      <td>29.0</td>\n",
       "      <td>20.0</td>\n",
       "      <td>149.0</td>\n",
       "      <td>20.0</td>\n",
       "      <td>10.0</td>\n",
       "      <td>33.0</td>\n",
       "      <td>71.0</td>\n",
       "      <td>9.0</td>\n",
       "      <td>48.0</td>\n",
       "      <td>95.0</td>\n",
       "      <td>10.0</td>\n",
       "      <td>6.0</td>\n",
       "      <td>7.0</td>\n",
       "      <td>17.0</td>\n",
       "      <td>22.0</td>\n",
       "      <td>40.0</td>\n",
       "    </tr>\n",
       "    <tr>\n",
       "      <th>pvv</th>\n",
       "      <td>0.0</td>\n",
       "      <td>12.0</td>\n",
       "      <td>25.0</td>\n",
       "      <td>12.0</td>\n",
       "      <td>63.0</td>\n",
       "      <td>33.0</td>\n",
       "      <td>62.0</td>\n",
       "      <td>22.0</td>\n",
       "      <td>6.0</td>\n",
       "      <td>21.0</td>\n",
       "      <td>144.0</td>\n",
       "      <td>28.0</td>\n",
       "      <td>133.0</td>\n",
       "      <td>161.0</td>\n",
       "      <td>14.0</td>\n",
       "      <td>139.0</td>\n",
       "      <td>19.0</td>\n",
       "    </tr>\n",
       "    <tr>\n",
       "      <th>sgp</th>\n",
       "      <td>1.0</td>\n",
       "      <td>2.0</td>\n",
       "      <td>4.0</td>\n",
       "      <td>11.0</td>\n",
       "      <td>5.0</td>\n",
       "      <td>22.0</td>\n",
       "      <td>14.0</td>\n",
       "      <td>8.0</td>\n",
       "      <td>0.0</td>\n",
       "      <td>4.0</td>\n",
       "      <td>52.0</td>\n",
       "      <td>9.0</td>\n",
       "      <td>46.0</td>\n",
       "      <td>13.0</td>\n",
       "      <td>5.0</td>\n",
       "      <td>36.0</td>\n",
       "      <td>5.0</td>\n",
       "    </tr>\n",
       "    <tr>\n",
       "      <th>sp</th>\n",
       "      <td>35.0</td>\n",
       "      <td>59.0</td>\n",
       "      <td>212.0</td>\n",
       "      <td>61.0</td>\n",
       "      <td>85.0</td>\n",
       "      <td>147.0</td>\n",
       "      <td>359.0</td>\n",
       "      <td>98.0</td>\n",
       "      <td>32.0</td>\n",
       "      <td>87.0</td>\n",
       "      <td>418.0</td>\n",
       "      <td>310.0</td>\n",
       "      <td>172.0</td>\n",
       "      <td>90.0</td>\n",
       "      <td>41.0</td>\n",
       "      <td>177.0</td>\n",
       "      <td>103.0</td>\n",
       "    </tr>\n",
       "    <tr>\n",
       "      <th>vvd</th>\n",
       "      <td>1.0</td>\n",
       "      <td>27.0</td>\n",
       "      <td>26.0</td>\n",
       "      <td>38.0</td>\n",
       "      <td>62.0</td>\n",
       "      <td>24.0</td>\n",
       "      <td>44.0</td>\n",
       "      <td>40.0</td>\n",
       "      <td>16.0</td>\n",
       "      <td>53.0</td>\n",
       "      <td>227.0</td>\n",
       "      <td>44.0</td>\n",
       "      <td>92.0</td>\n",
       "      <td>84.0</td>\n",
       "      <td>51.0</td>\n",
       "      <td>74.0</td>\n",
       "      <td>38.0</td>\n",
       "    </tr>\n",
       "  </tbody>\n",
       "</table>\n",
       "</div>"
      ],
      "text/plain": [
       "                         armoede  duurzame consumptie  economische groei  \\\n",
       "50plus                       3.0                  0.0                2.0   \n",
       "cda                          5.0                 12.0               69.0   \n",
       "christenunie                38.0                 25.0               43.0   \n",
       "d66                          0.0                 21.0               37.0   \n",
       "groenlinks                   7.0                 17.0               42.0   \n",
       "groepbontes/vanklaveren      0.0                  1.0                2.0   \n",
       "groepkuzu/öztürk             0.0                  0.0                0.0   \n",
       "klein                        0.0                  0.0                1.0   \n",
       "partijvoordedieren           0.0                  1.0                0.0   \n",
       "pvda                        51.0                 44.0              282.0   \n",
       "pvdd                         3.0                 29.0               20.0   \n",
       "pvv                          0.0                 12.0               25.0   \n",
       "sgp                          1.0                  2.0                4.0   \n",
       "sp                          35.0                 59.0              212.0   \n",
       "vvd                          1.0                 27.0               26.0   \n",
       "\n",
       "                         ecosystemen  energie  gendergelijkheid  gezondheid  \\\n",
       "50plus                           0.0      0.0               3.0         4.0   \n",
       "cda                             47.0     56.0              34.0        84.0   \n",
       "christenunie                    21.0     25.0              49.0        28.0   \n",
       "d66                             29.0     39.0              22.0        84.0   \n",
       "groenlinks                      21.0     69.0              34.0        38.0   \n",
       "groepbontes/vanklaveren          3.0      1.0               4.0         4.0   \n",
       "groepkuzu/öztürk                 0.0      0.0               4.0         1.0   \n",
       "klein                            0.0      3.0               1.0         3.0   \n",
       "partijvoordedieren              11.0      3.0               3.0         4.0   \n",
       "pvda                            37.0     88.0             213.0       254.0   \n",
       "pvdd                           149.0     20.0              10.0        33.0   \n",
       "pvv                             12.0     63.0              33.0        62.0   \n",
       "sgp                             11.0      5.0              22.0        14.0   \n",
       "sp                              61.0     85.0             147.0       359.0   \n",
       "vvd                             38.0     62.0              24.0        44.0   \n",
       "\n",
       "                         honger  innovatie  klimaatverandering  oceanen  \\\n",
       "50plus                      3.0        0.0                 0.0      7.0   \n",
       "cda                        50.0        9.0                30.0    238.0   \n",
       "christenunie               28.0        3.0                 8.0     70.0   \n",
       "d66                        36.0       15.0                36.0    148.0   \n",
       "groenlinks                 18.0       24.0                36.0     94.0   \n",
       "groepbontes/vanklaveren     1.0        0.0                 0.0     12.0   \n",
       "groepkuzu/öztürk            2.0        0.0                 0.0     12.0   \n",
       "klein                       0.0        0.0                 0.0     10.0   \n",
       "partijvoordedieren         11.0        0.0                 1.0     16.0   \n",
       "pvda                       84.0       22.0                47.0    384.0   \n",
       "pvdd                       71.0        9.0                48.0     95.0   \n",
       "pvv                        22.0        6.0                21.0    144.0   \n",
       "sgp                         8.0        0.0                 4.0     52.0   \n",
       "sp                         98.0       32.0                87.0    418.0   \n",
       "vvd                        40.0       16.0                53.0    227.0   \n",
       "\n",
       "                         onderwijs  ongelijkheid  partnerschappen  steden  \\\n",
       "50plus                         4.0          15.0              0.0     0.0   \n",
       "cda                           91.0          89.0             38.0    56.0   \n",
       "christenunie                  29.0          79.0             22.0    10.0   \n",
       "d66                           70.0         110.0             42.0    26.0   \n",
       "groenlinks                    41.0          78.0             27.0    15.0   \n",
       "groepbontes/vanklaveren        1.0          32.0             20.0     1.0   \n",
       "groepkuzu/öztürk               2.0          61.0              4.0     0.0   \n",
       "klein                          1.0           5.0              1.0     1.0   \n",
       "partijvoordedieren             0.0           0.0              0.0     0.0   \n",
       "pvda                         205.0         291.0             85.0    83.0   \n",
       "pvdd                          10.0           6.0              7.0    17.0   \n",
       "pvv                           28.0         133.0            161.0    14.0   \n",
       "sgp                            9.0          46.0             13.0     5.0   \n",
       "sp                           310.0         172.0             90.0    41.0   \n",
       "vvd                           44.0          92.0             84.0    51.0   \n",
       "\n",
       "                         vreedzame  water  \n",
       "50plus                         3.0    3.0  \n",
       "cda                           69.0   38.0  \n",
       "christenunie                  42.0   17.0  \n",
       "d66                           50.0   40.0  \n",
       "groenlinks                    86.0   30.0  \n",
       "groepbontes/vanklaveren       33.0    1.0  \n",
       "groepkuzu/öztürk              15.0    1.0  \n",
       "klein                          1.0    1.0  \n",
       "partijvoordedieren             0.0    0.0  \n",
       "pvda                         134.0   82.0  \n",
       "pvdd                          22.0   40.0  \n",
       "pvv                          139.0   19.0  \n",
       "sgp                           36.0    5.0  \n",
       "sp                           177.0  103.0  \n",
       "vvd                           74.0   38.0  "
      ]
     },
     "execution_count": 6,
     "metadata": {},
     "output_type": "execute_result"
    }
   ],
   "source": [
    "df = pd.read_csv('filtered_scores', index_col=0)\n",
    "df"
   ]
  },
  {
   "cell_type": "code",
   "execution_count": 7,
   "metadata": {},
   "outputs": [
    {
     "data": {
      "text/html": [
       "<script>requirejs.config({paths: { 'plotly': ['https://cdn.plot.ly/plotly-latest.min']},});if(!window.Plotly) {{require(['plotly'],function(plotly) {window.Plotly=plotly;});}}</script>"
      ],
      "text/vnd.plotly.v1+html": [
       "<script>requirejs.config({paths: { 'plotly': ['https://cdn.plot.ly/plotly-latest.min']},});if(!window.Plotly) {{require(['plotly'],function(plotly) {window.Plotly=plotly;});}}</script>"
      ]
     },
     "metadata": {},
     "output_type": "display_data"
    }
   ],
   "source": [
    "import plotly.plotly as py\n",
    "import plotly.graph_objs as go\n",
    "from plotly.offline import init_notebook_mode, iplot\n",
    "init_notebook_mode(connected=True)"
   ]
  },
  {
   "cell_type": "code",
   "execution_count": 13,
   "metadata": {
    "scrolled": false
   },
   "outputs": [
    {
     "data": {
      "application/vnd.plotly.v1+json": {
       "data": [
        {
         "name": "armoede",
         "orientation": "h",
         "type": "bar",
         "x": [
          3,
          5,
          38,
          0,
          7,
          0,
          0,
          0,
          0,
          51,
          3,
          0,
          1,
          35,
          1
         ],
         "y": [
          "50plus",
          "cda",
          "christenunie",
          "d66",
          "groenlinks",
          "groepbontes/vanklaveren",
          "groepkuzu/öztürk",
          "klein",
          "partijvoordedieren",
          "pvda",
          "pvdd",
          "pvv",
          "sgp",
          "sp",
          "vvd"
         ]
        }
       ],
       "layout": {
        "barmode": "group",
        "title": "armoede"
       }
      },
      "text/html": [
       "<div id=\"6ea07ee4-f330-46ab-82dd-797bbc381994\" style=\"height: 525px; width: 100%;\" class=\"plotly-graph-div\"></div><script type=\"text/javascript\">require([\"plotly\"], function(Plotly) { window.PLOTLYENV=window.PLOTLYENV || {};window.PLOTLYENV.BASE_URL=\"https://plot.ly\";Plotly.newPlot(\"6ea07ee4-f330-46ab-82dd-797bbc381994\", [{\"type\": \"bar\", \"y\": [\"50plus\", \"cda\", \"christenunie\", \"d66\", \"groenlinks\", \"groepbontes/vanklaveren\", \"groepkuzu/\\u00f6zt\\u00fcrk\", \"klein\", \"partijvoordedieren\", \"pvda\", \"pvdd\", \"pvv\", \"sgp\", \"sp\", \"vvd\"], \"x\": [3.0, 5.0, 38.0, 0.0, 7.0, 0.0, 0.0, 0.0, 0.0, 51.0, 3.0, 0.0, 1.0, 35.0, 1.0], \"name\": \"armoede\", \"orientation\": \"h\"}], {\"barmode\": \"group\", \"title\": \"armoede\"}, {\"showLink\": true, \"linkText\": \"Export to plot.ly\"})});</script>"
      ],
      "text/vnd.plotly.v1+html": [
       "<div id=\"6ea07ee4-f330-46ab-82dd-797bbc381994\" style=\"height: 525px; width: 100%;\" class=\"plotly-graph-div\"></div><script type=\"text/javascript\">require([\"plotly\"], function(Plotly) { window.PLOTLYENV=window.PLOTLYENV || {};window.PLOTLYENV.BASE_URL=\"https://plot.ly\";Plotly.newPlot(\"6ea07ee4-f330-46ab-82dd-797bbc381994\", [{\"type\": \"bar\", \"y\": [\"50plus\", \"cda\", \"christenunie\", \"d66\", \"groenlinks\", \"groepbontes/vanklaveren\", \"groepkuzu/\\u00f6zt\\u00fcrk\", \"klein\", \"partijvoordedieren\", \"pvda\", \"pvdd\", \"pvv\", \"sgp\", \"sp\", \"vvd\"], \"x\": [3.0, 5.0, 38.0, 0.0, 7.0, 0.0, 0.0, 0.0, 0.0, 51.0, 3.0, 0.0, 1.0, 35.0, 1.0], \"name\": \"armoede\", \"orientation\": \"h\"}], {\"barmode\": \"group\", \"title\": \"armoede\"}, {\"showLink\": true, \"linkText\": \"Export to plot.ly\"})});</script>"
      ]
     },
     "metadata": {},
     "output_type": "display_data"
    },
    {
     "data": {
      "application/vnd.plotly.v1+json": {
       "data": [
        {
         "name": "duurzame consumptie",
         "orientation": "h",
         "type": "bar",
         "x": [
          0,
          12,
          25,
          21,
          17,
          1,
          0,
          0,
          1,
          44,
          29,
          12,
          2,
          59,
          27
         ],
         "y": [
          "50plus",
          "cda",
          "christenunie",
          "d66",
          "groenlinks",
          "groepbontes/vanklaveren",
          "groepkuzu/öztürk",
          "klein",
          "partijvoordedieren",
          "pvda",
          "pvdd",
          "pvv",
          "sgp",
          "sp",
          "vvd"
         ]
        }
       ],
       "layout": {
        "barmode": "group",
        "title": "duurzame consumptie"
       }
      },
      "text/html": [
       "<div id=\"bfdbae70-fd52-4deb-95a8-5009a2d4f20a\" style=\"height: 525px; width: 100%;\" class=\"plotly-graph-div\"></div><script type=\"text/javascript\">require([\"plotly\"], function(Plotly) { window.PLOTLYENV=window.PLOTLYENV || {};window.PLOTLYENV.BASE_URL=\"https://plot.ly\";Plotly.newPlot(\"bfdbae70-fd52-4deb-95a8-5009a2d4f20a\", [{\"type\": \"bar\", \"y\": [\"50plus\", \"cda\", \"christenunie\", \"d66\", \"groenlinks\", \"groepbontes/vanklaveren\", \"groepkuzu/\\u00f6zt\\u00fcrk\", \"klein\", \"partijvoordedieren\", \"pvda\", \"pvdd\", \"pvv\", \"sgp\", \"sp\", \"vvd\"], \"x\": [0.0, 12.0, 25.0, 21.0, 17.0, 1.0, 0.0, 0.0, 1.0, 44.0, 29.0, 12.0, 2.0, 59.0, 27.0], \"name\": \"duurzame consumptie\", \"orientation\": \"h\"}], {\"barmode\": \"group\", \"title\": \"duurzame consumptie\"}, {\"showLink\": true, \"linkText\": \"Export to plot.ly\"})});</script>"
      ],
      "text/vnd.plotly.v1+html": [
       "<div id=\"bfdbae70-fd52-4deb-95a8-5009a2d4f20a\" style=\"height: 525px; width: 100%;\" class=\"plotly-graph-div\"></div><script type=\"text/javascript\">require([\"plotly\"], function(Plotly) { window.PLOTLYENV=window.PLOTLYENV || {};window.PLOTLYENV.BASE_URL=\"https://plot.ly\";Plotly.newPlot(\"bfdbae70-fd52-4deb-95a8-5009a2d4f20a\", [{\"type\": \"bar\", \"y\": [\"50plus\", \"cda\", \"christenunie\", \"d66\", \"groenlinks\", \"groepbontes/vanklaveren\", \"groepkuzu/\\u00f6zt\\u00fcrk\", \"klein\", \"partijvoordedieren\", \"pvda\", \"pvdd\", \"pvv\", \"sgp\", \"sp\", \"vvd\"], \"x\": [0.0, 12.0, 25.0, 21.0, 17.0, 1.0, 0.0, 0.0, 1.0, 44.0, 29.0, 12.0, 2.0, 59.0, 27.0], \"name\": \"duurzame consumptie\", \"orientation\": \"h\"}], {\"barmode\": \"group\", \"title\": \"duurzame consumptie\"}, {\"showLink\": true, \"linkText\": \"Export to plot.ly\"})});</script>"
      ]
     },
     "metadata": {},
     "output_type": "display_data"
    },
    {
     "data": {
      "application/vnd.plotly.v1+json": {
       "data": [
        {
         "name": "economische groei",
         "orientation": "h",
         "type": "bar",
         "x": [
          2,
          69,
          43,
          37,
          42,
          2,
          0,
          1,
          0,
          282,
          20,
          25,
          4,
          212,
          26
         ],
         "y": [
          "50plus",
          "cda",
          "christenunie",
          "d66",
          "groenlinks",
          "groepbontes/vanklaveren",
          "groepkuzu/öztürk",
          "klein",
          "partijvoordedieren",
          "pvda",
          "pvdd",
          "pvv",
          "sgp",
          "sp",
          "vvd"
         ]
        }
       ],
       "layout": {
        "barmode": "group",
        "title": "economische groei"
       }
      },
      "text/html": [
       "<div id=\"585597d2-52ff-40c1-b886-c7bd9f1b0fc6\" style=\"height: 525px; width: 100%;\" class=\"plotly-graph-div\"></div><script type=\"text/javascript\">require([\"plotly\"], function(Plotly) { window.PLOTLYENV=window.PLOTLYENV || {};window.PLOTLYENV.BASE_URL=\"https://plot.ly\";Plotly.newPlot(\"585597d2-52ff-40c1-b886-c7bd9f1b0fc6\", [{\"type\": \"bar\", \"y\": [\"50plus\", \"cda\", \"christenunie\", \"d66\", \"groenlinks\", \"groepbontes/vanklaveren\", \"groepkuzu/\\u00f6zt\\u00fcrk\", \"klein\", \"partijvoordedieren\", \"pvda\", \"pvdd\", \"pvv\", \"sgp\", \"sp\", \"vvd\"], \"x\": [2.0, 69.0, 43.0, 37.0, 42.0, 2.0, 0.0, 1.0, 0.0, 282.0, 20.0, 25.0, 4.0, 212.0, 26.0], \"name\": \"economische groei\", \"orientation\": \"h\"}], {\"barmode\": \"group\", \"title\": \"economische groei\"}, {\"showLink\": true, \"linkText\": \"Export to plot.ly\"})});</script>"
      ],
      "text/vnd.plotly.v1+html": [
       "<div id=\"585597d2-52ff-40c1-b886-c7bd9f1b0fc6\" style=\"height: 525px; width: 100%;\" class=\"plotly-graph-div\"></div><script type=\"text/javascript\">require([\"plotly\"], function(Plotly) { window.PLOTLYENV=window.PLOTLYENV || {};window.PLOTLYENV.BASE_URL=\"https://plot.ly\";Plotly.newPlot(\"585597d2-52ff-40c1-b886-c7bd9f1b0fc6\", [{\"type\": \"bar\", \"y\": [\"50plus\", \"cda\", \"christenunie\", \"d66\", \"groenlinks\", \"groepbontes/vanklaveren\", \"groepkuzu/\\u00f6zt\\u00fcrk\", \"klein\", \"partijvoordedieren\", \"pvda\", \"pvdd\", \"pvv\", \"sgp\", \"sp\", \"vvd\"], \"x\": [2.0, 69.0, 43.0, 37.0, 42.0, 2.0, 0.0, 1.0, 0.0, 282.0, 20.0, 25.0, 4.0, 212.0, 26.0], \"name\": \"economische groei\", \"orientation\": \"h\"}], {\"barmode\": \"group\", \"title\": \"economische groei\"}, {\"showLink\": true, \"linkText\": \"Export to plot.ly\"})});</script>"
      ]
     },
     "metadata": {},
     "output_type": "display_data"
    },
    {
     "data": {
      "application/vnd.plotly.v1+json": {
       "data": [
        {
         "name": "ecosystemen",
         "orientation": "h",
         "type": "bar",
         "x": [
          0,
          47,
          21,
          29,
          21,
          3,
          0,
          0,
          11,
          37,
          149,
          12,
          11,
          61,
          38
         ],
         "y": [
          "50plus",
          "cda",
          "christenunie",
          "d66",
          "groenlinks",
          "groepbontes/vanklaveren",
          "groepkuzu/öztürk",
          "klein",
          "partijvoordedieren",
          "pvda",
          "pvdd",
          "pvv",
          "sgp",
          "sp",
          "vvd"
         ]
        }
       ],
       "layout": {
        "barmode": "group",
        "title": "ecosystemen"
       }
      },
      "text/html": [
       "<div id=\"4d46793e-ac84-4c56-b313-5955e165f13a\" style=\"height: 525px; width: 100%;\" class=\"plotly-graph-div\"></div><script type=\"text/javascript\">require([\"plotly\"], function(Plotly) { window.PLOTLYENV=window.PLOTLYENV || {};window.PLOTLYENV.BASE_URL=\"https://plot.ly\";Plotly.newPlot(\"4d46793e-ac84-4c56-b313-5955e165f13a\", [{\"type\": \"bar\", \"y\": [\"50plus\", \"cda\", \"christenunie\", \"d66\", \"groenlinks\", \"groepbontes/vanklaveren\", \"groepkuzu/\\u00f6zt\\u00fcrk\", \"klein\", \"partijvoordedieren\", \"pvda\", \"pvdd\", \"pvv\", \"sgp\", \"sp\", \"vvd\"], \"x\": [0.0, 47.0, 21.0, 29.0, 21.0, 3.0, 0.0, 0.0, 11.0, 37.0, 149.0, 12.0, 11.0, 61.0, 38.0], \"name\": \"ecosystemen\", \"orientation\": \"h\"}], {\"barmode\": \"group\", \"title\": \"ecosystemen\"}, {\"showLink\": true, \"linkText\": \"Export to plot.ly\"})});</script>"
      ],
      "text/vnd.plotly.v1+html": [
       "<div id=\"4d46793e-ac84-4c56-b313-5955e165f13a\" style=\"height: 525px; width: 100%;\" class=\"plotly-graph-div\"></div><script type=\"text/javascript\">require([\"plotly\"], function(Plotly) { window.PLOTLYENV=window.PLOTLYENV || {};window.PLOTLYENV.BASE_URL=\"https://plot.ly\";Plotly.newPlot(\"4d46793e-ac84-4c56-b313-5955e165f13a\", [{\"type\": \"bar\", \"y\": [\"50plus\", \"cda\", \"christenunie\", \"d66\", \"groenlinks\", \"groepbontes/vanklaveren\", \"groepkuzu/\\u00f6zt\\u00fcrk\", \"klein\", \"partijvoordedieren\", \"pvda\", \"pvdd\", \"pvv\", \"sgp\", \"sp\", \"vvd\"], \"x\": [0.0, 47.0, 21.0, 29.0, 21.0, 3.0, 0.0, 0.0, 11.0, 37.0, 149.0, 12.0, 11.0, 61.0, 38.0], \"name\": \"ecosystemen\", \"orientation\": \"h\"}], {\"barmode\": \"group\", \"title\": \"ecosystemen\"}, {\"showLink\": true, \"linkText\": \"Export to plot.ly\"})});</script>"
      ]
     },
     "metadata": {},
     "output_type": "display_data"
    },
    {
     "data": {
      "application/vnd.plotly.v1+json": {
       "data": [
        {
         "name": "energie",
         "orientation": "h",
         "type": "bar",
         "x": [
          0,
          56,
          25,
          39,
          69,
          1,
          0,
          3,
          3,
          88,
          20,
          63,
          5,
          85,
          62
         ],
         "y": [
          "50plus",
          "cda",
          "christenunie",
          "d66",
          "groenlinks",
          "groepbontes/vanklaveren",
          "groepkuzu/öztürk",
          "klein",
          "partijvoordedieren",
          "pvda",
          "pvdd",
          "pvv",
          "sgp",
          "sp",
          "vvd"
         ]
        }
       ],
       "layout": {
        "barmode": "group",
        "title": "energie"
       }
      },
      "text/html": [
       "<div id=\"7b6875c6-52ce-46c5-8dec-dc388510bf2a\" style=\"height: 525px; width: 100%;\" class=\"plotly-graph-div\"></div><script type=\"text/javascript\">require([\"plotly\"], function(Plotly) { window.PLOTLYENV=window.PLOTLYENV || {};window.PLOTLYENV.BASE_URL=\"https://plot.ly\";Plotly.newPlot(\"7b6875c6-52ce-46c5-8dec-dc388510bf2a\", [{\"type\": \"bar\", \"y\": [\"50plus\", \"cda\", \"christenunie\", \"d66\", \"groenlinks\", \"groepbontes/vanklaveren\", \"groepkuzu/\\u00f6zt\\u00fcrk\", \"klein\", \"partijvoordedieren\", \"pvda\", \"pvdd\", \"pvv\", \"sgp\", \"sp\", \"vvd\"], \"x\": [0.0, 56.0, 25.0, 39.0, 69.0, 1.0, 0.0, 3.0, 3.0, 88.0, 20.0, 63.0, 5.0, 85.0, 62.0], \"name\": \"energie\", \"orientation\": \"h\"}], {\"barmode\": \"group\", \"title\": \"energie\"}, {\"showLink\": true, \"linkText\": \"Export to plot.ly\"})});</script>"
      ],
      "text/vnd.plotly.v1+html": [
       "<div id=\"7b6875c6-52ce-46c5-8dec-dc388510bf2a\" style=\"height: 525px; width: 100%;\" class=\"plotly-graph-div\"></div><script type=\"text/javascript\">require([\"plotly\"], function(Plotly) { window.PLOTLYENV=window.PLOTLYENV || {};window.PLOTLYENV.BASE_URL=\"https://plot.ly\";Plotly.newPlot(\"7b6875c6-52ce-46c5-8dec-dc388510bf2a\", [{\"type\": \"bar\", \"y\": [\"50plus\", \"cda\", \"christenunie\", \"d66\", \"groenlinks\", \"groepbontes/vanklaveren\", \"groepkuzu/\\u00f6zt\\u00fcrk\", \"klein\", \"partijvoordedieren\", \"pvda\", \"pvdd\", \"pvv\", \"sgp\", \"sp\", \"vvd\"], \"x\": [0.0, 56.0, 25.0, 39.0, 69.0, 1.0, 0.0, 3.0, 3.0, 88.0, 20.0, 63.0, 5.0, 85.0, 62.0], \"name\": \"energie\", \"orientation\": \"h\"}], {\"barmode\": \"group\", \"title\": \"energie\"}, {\"showLink\": true, \"linkText\": \"Export to plot.ly\"})});</script>"
      ]
     },
     "metadata": {},
     "output_type": "display_data"
    },
    {
     "data": {
      "application/vnd.plotly.v1+json": {
       "data": [
        {
         "name": "gendergelijkheid",
         "orientation": "h",
         "type": "bar",
         "x": [
          3,
          34,
          49,
          22,
          34,
          4,
          4,
          1,
          3,
          213,
          10,
          33,
          22,
          147,
          24
         ],
         "y": [
          "50plus",
          "cda",
          "christenunie",
          "d66",
          "groenlinks",
          "groepbontes/vanklaveren",
          "groepkuzu/öztürk",
          "klein",
          "partijvoordedieren",
          "pvda",
          "pvdd",
          "pvv",
          "sgp",
          "sp",
          "vvd"
         ]
        }
       ],
       "layout": {
        "barmode": "group",
        "title": "gendergelijkheid"
       }
      },
      "text/html": [
       "<div id=\"a657f71e-66b6-4dad-807e-30bea4c334f6\" style=\"height: 525px; width: 100%;\" class=\"plotly-graph-div\"></div><script type=\"text/javascript\">require([\"plotly\"], function(Plotly) { window.PLOTLYENV=window.PLOTLYENV || {};window.PLOTLYENV.BASE_URL=\"https://plot.ly\";Plotly.newPlot(\"a657f71e-66b6-4dad-807e-30bea4c334f6\", [{\"type\": \"bar\", \"y\": [\"50plus\", \"cda\", \"christenunie\", \"d66\", \"groenlinks\", \"groepbontes/vanklaveren\", \"groepkuzu/\\u00f6zt\\u00fcrk\", \"klein\", \"partijvoordedieren\", \"pvda\", \"pvdd\", \"pvv\", \"sgp\", \"sp\", \"vvd\"], \"x\": [3.0, 34.0, 49.0, 22.0, 34.0, 4.0, 4.0, 1.0, 3.0, 213.0, 10.0, 33.0, 22.0, 147.0, 24.0], \"name\": \"gendergelijkheid\", \"orientation\": \"h\"}], {\"barmode\": \"group\", \"title\": \"gendergelijkheid\"}, {\"showLink\": true, \"linkText\": \"Export to plot.ly\"})});</script>"
      ],
      "text/vnd.plotly.v1+html": [
       "<div id=\"a657f71e-66b6-4dad-807e-30bea4c334f6\" style=\"height: 525px; width: 100%;\" class=\"plotly-graph-div\"></div><script type=\"text/javascript\">require([\"plotly\"], function(Plotly) { window.PLOTLYENV=window.PLOTLYENV || {};window.PLOTLYENV.BASE_URL=\"https://plot.ly\";Plotly.newPlot(\"a657f71e-66b6-4dad-807e-30bea4c334f6\", [{\"type\": \"bar\", \"y\": [\"50plus\", \"cda\", \"christenunie\", \"d66\", \"groenlinks\", \"groepbontes/vanklaveren\", \"groepkuzu/\\u00f6zt\\u00fcrk\", \"klein\", \"partijvoordedieren\", \"pvda\", \"pvdd\", \"pvv\", \"sgp\", \"sp\", \"vvd\"], \"x\": [3.0, 34.0, 49.0, 22.0, 34.0, 4.0, 4.0, 1.0, 3.0, 213.0, 10.0, 33.0, 22.0, 147.0, 24.0], \"name\": \"gendergelijkheid\", \"orientation\": \"h\"}], {\"barmode\": \"group\", \"title\": \"gendergelijkheid\"}, {\"showLink\": true, \"linkText\": \"Export to plot.ly\"})});</script>"
      ]
     },
     "metadata": {},
     "output_type": "display_data"
    },
    {
     "data": {
      "application/vnd.plotly.v1+json": {
       "data": [
        {
         "name": "gezondheid",
         "orientation": "h",
         "type": "bar",
         "x": [
          4,
          84,
          28,
          84,
          38,
          4,
          1,
          3,
          4,
          254,
          33,
          62,
          14,
          359,
          44
         ],
         "y": [
          "50plus",
          "cda",
          "christenunie",
          "d66",
          "groenlinks",
          "groepbontes/vanklaveren",
          "groepkuzu/öztürk",
          "klein",
          "partijvoordedieren",
          "pvda",
          "pvdd",
          "pvv",
          "sgp",
          "sp",
          "vvd"
         ]
        }
       ],
       "layout": {
        "barmode": "group",
        "title": "gezondheid"
       }
      },
      "text/html": [
       "<div id=\"ae4316ef-4292-4fa2-9454-b65da81e72bf\" style=\"height: 525px; width: 100%;\" class=\"plotly-graph-div\"></div><script type=\"text/javascript\">require([\"plotly\"], function(Plotly) { window.PLOTLYENV=window.PLOTLYENV || {};window.PLOTLYENV.BASE_URL=\"https://plot.ly\";Plotly.newPlot(\"ae4316ef-4292-4fa2-9454-b65da81e72bf\", [{\"type\": \"bar\", \"y\": [\"50plus\", \"cda\", \"christenunie\", \"d66\", \"groenlinks\", \"groepbontes/vanklaveren\", \"groepkuzu/\\u00f6zt\\u00fcrk\", \"klein\", \"partijvoordedieren\", \"pvda\", \"pvdd\", \"pvv\", \"sgp\", \"sp\", \"vvd\"], \"x\": [4.0, 84.0, 28.0, 84.0, 38.0, 4.0, 1.0, 3.0, 4.0, 254.0, 33.0, 62.0, 14.0, 359.0, 44.0], \"name\": \"gezondheid\", \"orientation\": \"h\"}], {\"barmode\": \"group\", \"title\": \"gezondheid\"}, {\"showLink\": true, \"linkText\": \"Export to plot.ly\"})});</script>"
      ],
      "text/vnd.plotly.v1+html": [
       "<div id=\"ae4316ef-4292-4fa2-9454-b65da81e72bf\" style=\"height: 525px; width: 100%;\" class=\"plotly-graph-div\"></div><script type=\"text/javascript\">require([\"plotly\"], function(Plotly) { window.PLOTLYENV=window.PLOTLYENV || {};window.PLOTLYENV.BASE_URL=\"https://plot.ly\";Plotly.newPlot(\"ae4316ef-4292-4fa2-9454-b65da81e72bf\", [{\"type\": \"bar\", \"y\": [\"50plus\", \"cda\", \"christenunie\", \"d66\", \"groenlinks\", \"groepbontes/vanklaveren\", \"groepkuzu/\\u00f6zt\\u00fcrk\", \"klein\", \"partijvoordedieren\", \"pvda\", \"pvdd\", \"pvv\", \"sgp\", \"sp\", \"vvd\"], \"x\": [4.0, 84.0, 28.0, 84.0, 38.0, 4.0, 1.0, 3.0, 4.0, 254.0, 33.0, 62.0, 14.0, 359.0, 44.0], \"name\": \"gezondheid\", \"orientation\": \"h\"}], {\"barmode\": \"group\", \"title\": \"gezondheid\"}, {\"showLink\": true, \"linkText\": \"Export to plot.ly\"})});</script>"
      ]
     },
     "metadata": {},
     "output_type": "display_data"
    },
    {
     "data": {
      "application/vnd.plotly.v1+json": {
       "data": [
        {
         "name": "honger",
         "orientation": "h",
         "type": "bar",
         "x": [
          3,
          50,
          28,
          36,
          18,
          1,
          2,
          0,
          11,
          84,
          71,
          22,
          8,
          98,
          40
         ],
         "y": [
          "50plus",
          "cda",
          "christenunie",
          "d66",
          "groenlinks",
          "groepbontes/vanklaveren",
          "groepkuzu/öztürk",
          "klein",
          "partijvoordedieren",
          "pvda",
          "pvdd",
          "pvv",
          "sgp",
          "sp",
          "vvd"
         ]
        }
       ],
       "layout": {
        "barmode": "group",
        "title": "honger"
       }
      },
      "text/html": [
       "<div id=\"7bcd6ad4-b414-4481-8d42-7d7ff23f422f\" style=\"height: 525px; width: 100%;\" class=\"plotly-graph-div\"></div><script type=\"text/javascript\">require([\"plotly\"], function(Plotly) { window.PLOTLYENV=window.PLOTLYENV || {};window.PLOTLYENV.BASE_URL=\"https://plot.ly\";Plotly.newPlot(\"7bcd6ad4-b414-4481-8d42-7d7ff23f422f\", [{\"type\": \"bar\", \"y\": [\"50plus\", \"cda\", \"christenunie\", \"d66\", \"groenlinks\", \"groepbontes/vanklaveren\", \"groepkuzu/\\u00f6zt\\u00fcrk\", \"klein\", \"partijvoordedieren\", \"pvda\", \"pvdd\", \"pvv\", \"sgp\", \"sp\", \"vvd\"], \"x\": [3.0, 50.0, 28.0, 36.0, 18.0, 1.0, 2.0, 0.0, 11.0, 84.0, 71.0, 22.0, 8.0, 98.0, 40.0], \"name\": \"honger\", \"orientation\": \"h\"}], {\"barmode\": \"group\", \"title\": \"honger\"}, {\"showLink\": true, \"linkText\": \"Export to plot.ly\"})});</script>"
      ],
      "text/vnd.plotly.v1+html": [
       "<div id=\"7bcd6ad4-b414-4481-8d42-7d7ff23f422f\" style=\"height: 525px; width: 100%;\" class=\"plotly-graph-div\"></div><script type=\"text/javascript\">require([\"plotly\"], function(Plotly) { window.PLOTLYENV=window.PLOTLYENV || {};window.PLOTLYENV.BASE_URL=\"https://plot.ly\";Plotly.newPlot(\"7bcd6ad4-b414-4481-8d42-7d7ff23f422f\", [{\"type\": \"bar\", \"y\": [\"50plus\", \"cda\", \"christenunie\", \"d66\", \"groenlinks\", \"groepbontes/vanklaveren\", \"groepkuzu/\\u00f6zt\\u00fcrk\", \"klein\", \"partijvoordedieren\", \"pvda\", \"pvdd\", \"pvv\", \"sgp\", \"sp\", \"vvd\"], \"x\": [3.0, 50.0, 28.0, 36.0, 18.0, 1.0, 2.0, 0.0, 11.0, 84.0, 71.0, 22.0, 8.0, 98.0, 40.0], \"name\": \"honger\", \"orientation\": \"h\"}], {\"barmode\": \"group\", \"title\": \"honger\"}, {\"showLink\": true, \"linkText\": \"Export to plot.ly\"})});</script>"
      ]
     },
     "metadata": {},
     "output_type": "display_data"
    },
    {
     "data": {
      "application/vnd.plotly.v1+json": {
       "data": [
        {
         "name": "innovatie",
         "orientation": "h",
         "type": "bar",
         "x": [
          0,
          9,
          3,
          15,
          24,
          0,
          0,
          0,
          0,
          22,
          9,
          6,
          0,
          32,
          16
         ],
         "y": [
          "50plus",
          "cda",
          "christenunie",
          "d66",
          "groenlinks",
          "groepbontes/vanklaveren",
          "groepkuzu/öztürk",
          "klein",
          "partijvoordedieren",
          "pvda",
          "pvdd",
          "pvv",
          "sgp",
          "sp",
          "vvd"
         ]
        }
       ],
       "layout": {
        "barmode": "group",
        "title": "innovatie"
       }
      },
      "text/html": [
       "<div id=\"e79438bc-4c45-48dd-901e-e2f8742f1055\" style=\"height: 525px; width: 100%;\" class=\"plotly-graph-div\"></div><script type=\"text/javascript\">require([\"plotly\"], function(Plotly) { window.PLOTLYENV=window.PLOTLYENV || {};window.PLOTLYENV.BASE_URL=\"https://plot.ly\";Plotly.newPlot(\"e79438bc-4c45-48dd-901e-e2f8742f1055\", [{\"type\": \"bar\", \"y\": [\"50plus\", \"cda\", \"christenunie\", \"d66\", \"groenlinks\", \"groepbontes/vanklaveren\", \"groepkuzu/\\u00f6zt\\u00fcrk\", \"klein\", \"partijvoordedieren\", \"pvda\", \"pvdd\", \"pvv\", \"sgp\", \"sp\", \"vvd\"], \"x\": [0.0, 9.0, 3.0, 15.0, 24.0, 0.0, 0.0, 0.0, 0.0, 22.0, 9.0, 6.0, 0.0, 32.0, 16.0], \"name\": \"innovatie\", \"orientation\": \"h\"}], {\"barmode\": \"group\", \"title\": \"innovatie\"}, {\"showLink\": true, \"linkText\": \"Export to plot.ly\"})});</script>"
      ],
      "text/vnd.plotly.v1+html": [
       "<div id=\"e79438bc-4c45-48dd-901e-e2f8742f1055\" style=\"height: 525px; width: 100%;\" class=\"plotly-graph-div\"></div><script type=\"text/javascript\">require([\"plotly\"], function(Plotly) { window.PLOTLYENV=window.PLOTLYENV || {};window.PLOTLYENV.BASE_URL=\"https://plot.ly\";Plotly.newPlot(\"e79438bc-4c45-48dd-901e-e2f8742f1055\", [{\"type\": \"bar\", \"y\": [\"50plus\", \"cda\", \"christenunie\", \"d66\", \"groenlinks\", \"groepbontes/vanklaveren\", \"groepkuzu/\\u00f6zt\\u00fcrk\", \"klein\", \"partijvoordedieren\", \"pvda\", \"pvdd\", \"pvv\", \"sgp\", \"sp\", \"vvd\"], \"x\": [0.0, 9.0, 3.0, 15.0, 24.0, 0.0, 0.0, 0.0, 0.0, 22.0, 9.0, 6.0, 0.0, 32.0, 16.0], \"name\": \"innovatie\", \"orientation\": \"h\"}], {\"barmode\": \"group\", \"title\": \"innovatie\"}, {\"showLink\": true, \"linkText\": \"Export to plot.ly\"})});</script>"
      ]
     },
     "metadata": {},
     "output_type": "display_data"
    },
    {
     "data": {
      "application/vnd.plotly.v1+json": {
       "data": [
        {
         "name": "klimaatverandering",
         "orientation": "h",
         "type": "bar",
         "x": [
          0,
          30,
          8,
          36,
          36,
          0,
          0,
          0,
          1,
          47,
          48,
          21,
          4,
          87,
          53
         ],
         "y": [
          "50plus",
          "cda",
          "christenunie",
          "d66",
          "groenlinks",
          "groepbontes/vanklaveren",
          "groepkuzu/öztürk",
          "klein",
          "partijvoordedieren",
          "pvda",
          "pvdd",
          "pvv",
          "sgp",
          "sp",
          "vvd"
         ]
        }
       ],
       "layout": {
        "barmode": "group",
        "title": "klimaatverandering"
       }
      },
      "text/html": [
       "<div id=\"4651990f-7346-4b85-b989-e4fca7de5a8a\" style=\"height: 525px; width: 100%;\" class=\"plotly-graph-div\"></div><script type=\"text/javascript\">require([\"plotly\"], function(Plotly) { window.PLOTLYENV=window.PLOTLYENV || {};window.PLOTLYENV.BASE_URL=\"https://plot.ly\";Plotly.newPlot(\"4651990f-7346-4b85-b989-e4fca7de5a8a\", [{\"type\": \"bar\", \"y\": [\"50plus\", \"cda\", \"christenunie\", \"d66\", \"groenlinks\", \"groepbontes/vanklaveren\", \"groepkuzu/\\u00f6zt\\u00fcrk\", \"klein\", \"partijvoordedieren\", \"pvda\", \"pvdd\", \"pvv\", \"sgp\", \"sp\", \"vvd\"], \"x\": [0.0, 30.0, 8.0, 36.0, 36.0, 0.0, 0.0, 0.0, 1.0, 47.0, 48.0, 21.0, 4.0, 87.0, 53.0], \"name\": \"klimaatverandering\", \"orientation\": \"h\"}], {\"barmode\": \"group\", \"title\": \"klimaatverandering\"}, {\"showLink\": true, \"linkText\": \"Export to plot.ly\"})});</script>"
      ],
      "text/vnd.plotly.v1+html": [
       "<div id=\"4651990f-7346-4b85-b989-e4fca7de5a8a\" style=\"height: 525px; width: 100%;\" class=\"plotly-graph-div\"></div><script type=\"text/javascript\">require([\"plotly\"], function(Plotly) { window.PLOTLYENV=window.PLOTLYENV || {};window.PLOTLYENV.BASE_URL=\"https://plot.ly\";Plotly.newPlot(\"4651990f-7346-4b85-b989-e4fca7de5a8a\", [{\"type\": \"bar\", \"y\": [\"50plus\", \"cda\", \"christenunie\", \"d66\", \"groenlinks\", \"groepbontes/vanklaveren\", \"groepkuzu/\\u00f6zt\\u00fcrk\", \"klein\", \"partijvoordedieren\", \"pvda\", \"pvdd\", \"pvv\", \"sgp\", \"sp\", \"vvd\"], \"x\": [0.0, 30.0, 8.0, 36.0, 36.0, 0.0, 0.0, 0.0, 1.0, 47.0, 48.0, 21.0, 4.0, 87.0, 53.0], \"name\": \"klimaatverandering\", \"orientation\": \"h\"}], {\"barmode\": \"group\", \"title\": \"klimaatverandering\"}, {\"showLink\": true, \"linkText\": \"Export to plot.ly\"})});</script>"
      ]
     },
     "metadata": {},
     "output_type": "display_data"
    },
    {
     "data": {
      "application/vnd.plotly.v1+json": {
       "data": [
        {
         "name": "oceanen",
         "orientation": "h",
         "type": "bar",
         "x": [
          7,
          238,
          70,
          148,
          94,
          12,
          12,
          10,
          16,
          384,
          95,
          144,
          52,
          418,
          227
         ],
         "y": [
          "50plus",
          "cda",
          "christenunie",
          "d66",
          "groenlinks",
          "groepbontes/vanklaveren",
          "groepkuzu/öztürk",
          "klein",
          "partijvoordedieren",
          "pvda",
          "pvdd",
          "pvv",
          "sgp",
          "sp",
          "vvd"
         ]
        }
       ],
       "layout": {
        "barmode": "group",
        "title": "oceanen"
       }
      },
      "text/html": [
       "<div id=\"f96f3d7c-53cf-47d5-854b-b184b81da053\" style=\"height: 525px; width: 100%;\" class=\"plotly-graph-div\"></div><script type=\"text/javascript\">require([\"plotly\"], function(Plotly) { window.PLOTLYENV=window.PLOTLYENV || {};window.PLOTLYENV.BASE_URL=\"https://plot.ly\";Plotly.newPlot(\"f96f3d7c-53cf-47d5-854b-b184b81da053\", [{\"type\": \"bar\", \"y\": [\"50plus\", \"cda\", \"christenunie\", \"d66\", \"groenlinks\", \"groepbontes/vanklaveren\", \"groepkuzu/\\u00f6zt\\u00fcrk\", \"klein\", \"partijvoordedieren\", \"pvda\", \"pvdd\", \"pvv\", \"sgp\", \"sp\", \"vvd\"], \"x\": [7.0, 238.0, 70.0, 148.0, 94.0, 12.0, 12.0, 10.0, 16.0, 384.0, 95.0, 144.0, 52.0, 418.0, 227.0], \"name\": \"oceanen\", \"orientation\": \"h\"}], {\"barmode\": \"group\", \"title\": \"oceanen\"}, {\"showLink\": true, \"linkText\": \"Export to plot.ly\"})});</script>"
      ],
      "text/vnd.plotly.v1+html": [
       "<div id=\"f96f3d7c-53cf-47d5-854b-b184b81da053\" style=\"height: 525px; width: 100%;\" class=\"plotly-graph-div\"></div><script type=\"text/javascript\">require([\"plotly\"], function(Plotly) { window.PLOTLYENV=window.PLOTLYENV || {};window.PLOTLYENV.BASE_URL=\"https://plot.ly\";Plotly.newPlot(\"f96f3d7c-53cf-47d5-854b-b184b81da053\", [{\"type\": \"bar\", \"y\": [\"50plus\", \"cda\", \"christenunie\", \"d66\", \"groenlinks\", \"groepbontes/vanklaveren\", \"groepkuzu/\\u00f6zt\\u00fcrk\", \"klein\", \"partijvoordedieren\", \"pvda\", \"pvdd\", \"pvv\", \"sgp\", \"sp\", \"vvd\"], \"x\": [7.0, 238.0, 70.0, 148.0, 94.0, 12.0, 12.0, 10.0, 16.0, 384.0, 95.0, 144.0, 52.0, 418.0, 227.0], \"name\": \"oceanen\", \"orientation\": \"h\"}], {\"barmode\": \"group\", \"title\": \"oceanen\"}, {\"showLink\": true, \"linkText\": \"Export to plot.ly\"})});</script>"
      ]
     },
     "metadata": {},
     "output_type": "display_data"
    },
    {
     "data": {
      "application/vnd.plotly.v1+json": {
       "data": [
        {
         "name": "onderwijs",
         "orientation": "h",
         "type": "bar",
         "x": [
          4,
          91,
          29,
          70,
          41,
          1,
          2,
          1,
          0,
          205,
          10,
          28,
          9,
          310,
          44
         ],
         "y": [
          "50plus",
          "cda",
          "christenunie",
          "d66",
          "groenlinks",
          "groepbontes/vanklaveren",
          "groepkuzu/öztürk",
          "klein",
          "partijvoordedieren",
          "pvda",
          "pvdd",
          "pvv",
          "sgp",
          "sp",
          "vvd"
         ]
        }
       ],
       "layout": {
        "barmode": "group",
        "title": "onderwijs"
       }
      },
      "text/html": [
       "<div id=\"f68eb68e-93d2-425f-8569-ef84d19125c7\" style=\"height: 525px; width: 100%;\" class=\"plotly-graph-div\"></div><script type=\"text/javascript\">require([\"plotly\"], function(Plotly) { window.PLOTLYENV=window.PLOTLYENV || {};window.PLOTLYENV.BASE_URL=\"https://plot.ly\";Plotly.newPlot(\"f68eb68e-93d2-425f-8569-ef84d19125c7\", [{\"type\": \"bar\", \"y\": [\"50plus\", \"cda\", \"christenunie\", \"d66\", \"groenlinks\", \"groepbontes/vanklaveren\", \"groepkuzu/\\u00f6zt\\u00fcrk\", \"klein\", \"partijvoordedieren\", \"pvda\", \"pvdd\", \"pvv\", \"sgp\", \"sp\", \"vvd\"], \"x\": [4.0, 91.0, 29.0, 70.0, 41.0, 1.0, 2.0, 1.0, 0.0, 205.0, 10.0, 28.0, 9.0, 310.0, 44.0], \"name\": \"onderwijs\", \"orientation\": \"h\"}], {\"barmode\": \"group\", \"title\": \"onderwijs\"}, {\"showLink\": true, \"linkText\": \"Export to plot.ly\"})});</script>"
      ],
      "text/vnd.plotly.v1+html": [
       "<div id=\"f68eb68e-93d2-425f-8569-ef84d19125c7\" style=\"height: 525px; width: 100%;\" class=\"plotly-graph-div\"></div><script type=\"text/javascript\">require([\"plotly\"], function(Plotly) { window.PLOTLYENV=window.PLOTLYENV || {};window.PLOTLYENV.BASE_URL=\"https://plot.ly\";Plotly.newPlot(\"f68eb68e-93d2-425f-8569-ef84d19125c7\", [{\"type\": \"bar\", \"y\": [\"50plus\", \"cda\", \"christenunie\", \"d66\", \"groenlinks\", \"groepbontes/vanklaveren\", \"groepkuzu/\\u00f6zt\\u00fcrk\", \"klein\", \"partijvoordedieren\", \"pvda\", \"pvdd\", \"pvv\", \"sgp\", \"sp\", \"vvd\"], \"x\": [4.0, 91.0, 29.0, 70.0, 41.0, 1.0, 2.0, 1.0, 0.0, 205.0, 10.0, 28.0, 9.0, 310.0, 44.0], \"name\": \"onderwijs\", \"orientation\": \"h\"}], {\"barmode\": \"group\", \"title\": \"onderwijs\"}, {\"showLink\": true, \"linkText\": \"Export to plot.ly\"})});</script>"
      ]
     },
     "metadata": {},
     "output_type": "display_data"
    },
    {
     "data": {
      "application/vnd.plotly.v1+json": {
       "data": [
        {
         "name": "ongelijkheid",
         "orientation": "h",
         "type": "bar",
         "x": [
          15,
          89,
          79,
          110,
          78,
          32,
          61,
          5,
          0,
          291,
          6,
          133,
          46,
          172,
          92
         ],
         "y": [
          "50plus",
          "cda",
          "christenunie",
          "d66",
          "groenlinks",
          "groepbontes/vanklaveren",
          "groepkuzu/öztürk",
          "klein",
          "partijvoordedieren",
          "pvda",
          "pvdd",
          "pvv",
          "sgp",
          "sp",
          "vvd"
         ]
        }
       ],
       "layout": {
        "barmode": "group",
        "title": "ongelijkheid"
       }
      },
      "text/html": [
       "<div id=\"5befe174-6617-472c-86dc-8e9a01e5f95e\" style=\"height: 525px; width: 100%;\" class=\"plotly-graph-div\"></div><script type=\"text/javascript\">require([\"plotly\"], function(Plotly) { window.PLOTLYENV=window.PLOTLYENV || {};window.PLOTLYENV.BASE_URL=\"https://plot.ly\";Plotly.newPlot(\"5befe174-6617-472c-86dc-8e9a01e5f95e\", [{\"type\": \"bar\", \"y\": [\"50plus\", \"cda\", \"christenunie\", \"d66\", \"groenlinks\", \"groepbontes/vanklaveren\", \"groepkuzu/\\u00f6zt\\u00fcrk\", \"klein\", \"partijvoordedieren\", \"pvda\", \"pvdd\", \"pvv\", \"sgp\", \"sp\", \"vvd\"], \"x\": [15.0, 89.0, 79.0, 110.0, 78.0, 32.0, 61.0, 5.0, 0.0, 291.0, 6.0, 133.0, 46.0, 172.0, 92.0], \"name\": \"ongelijkheid\", \"orientation\": \"h\"}], {\"barmode\": \"group\", \"title\": \"ongelijkheid\"}, {\"showLink\": true, \"linkText\": \"Export to plot.ly\"})});</script>"
      ],
      "text/vnd.plotly.v1+html": [
       "<div id=\"5befe174-6617-472c-86dc-8e9a01e5f95e\" style=\"height: 525px; width: 100%;\" class=\"plotly-graph-div\"></div><script type=\"text/javascript\">require([\"plotly\"], function(Plotly) { window.PLOTLYENV=window.PLOTLYENV || {};window.PLOTLYENV.BASE_URL=\"https://plot.ly\";Plotly.newPlot(\"5befe174-6617-472c-86dc-8e9a01e5f95e\", [{\"type\": \"bar\", \"y\": [\"50plus\", \"cda\", \"christenunie\", \"d66\", \"groenlinks\", \"groepbontes/vanklaveren\", \"groepkuzu/\\u00f6zt\\u00fcrk\", \"klein\", \"partijvoordedieren\", \"pvda\", \"pvdd\", \"pvv\", \"sgp\", \"sp\", \"vvd\"], \"x\": [15.0, 89.0, 79.0, 110.0, 78.0, 32.0, 61.0, 5.0, 0.0, 291.0, 6.0, 133.0, 46.0, 172.0, 92.0], \"name\": \"ongelijkheid\", \"orientation\": \"h\"}], {\"barmode\": \"group\", \"title\": \"ongelijkheid\"}, {\"showLink\": true, \"linkText\": \"Export to plot.ly\"})});</script>"
      ]
     },
     "metadata": {},
     "output_type": "display_data"
    },
    {
     "data": {
      "application/vnd.plotly.v1+json": {
       "data": [
        {
         "name": "partnerschappen",
         "orientation": "h",
         "type": "bar",
         "x": [
          0,
          38,
          22,
          42,
          27,
          20,
          4,
          1,
          0,
          85,
          7,
          161,
          13,
          90,
          84
         ],
         "y": [
          "50plus",
          "cda",
          "christenunie",
          "d66",
          "groenlinks",
          "groepbontes/vanklaveren",
          "groepkuzu/öztürk",
          "klein",
          "partijvoordedieren",
          "pvda",
          "pvdd",
          "pvv",
          "sgp",
          "sp",
          "vvd"
         ]
        }
       ],
       "layout": {
        "barmode": "group",
        "title": "partnerschappen"
       }
      },
      "text/html": [
       "<div id=\"c14fa1d0-466f-4711-bea3-95d22956cd1a\" style=\"height: 525px; width: 100%;\" class=\"plotly-graph-div\"></div><script type=\"text/javascript\">require([\"plotly\"], function(Plotly) { window.PLOTLYENV=window.PLOTLYENV || {};window.PLOTLYENV.BASE_URL=\"https://plot.ly\";Plotly.newPlot(\"c14fa1d0-466f-4711-bea3-95d22956cd1a\", [{\"type\": \"bar\", \"y\": [\"50plus\", \"cda\", \"christenunie\", \"d66\", \"groenlinks\", \"groepbontes/vanklaveren\", \"groepkuzu/\\u00f6zt\\u00fcrk\", \"klein\", \"partijvoordedieren\", \"pvda\", \"pvdd\", \"pvv\", \"sgp\", \"sp\", \"vvd\"], \"x\": [0.0, 38.0, 22.0, 42.0, 27.0, 20.0, 4.0, 1.0, 0.0, 85.0, 7.0, 161.0, 13.0, 90.0, 84.0], \"name\": \"partnerschappen\", \"orientation\": \"h\"}], {\"barmode\": \"group\", \"title\": \"partnerschappen\"}, {\"showLink\": true, \"linkText\": \"Export to plot.ly\"})});</script>"
      ],
      "text/vnd.plotly.v1+html": [
       "<div id=\"c14fa1d0-466f-4711-bea3-95d22956cd1a\" style=\"height: 525px; width: 100%;\" class=\"plotly-graph-div\"></div><script type=\"text/javascript\">require([\"plotly\"], function(Plotly) { window.PLOTLYENV=window.PLOTLYENV || {};window.PLOTLYENV.BASE_URL=\"https://plot.ly\";Plotly.newPlot(\"c14fa1d0-466f-4711-bea3-95d22956cd1a\", [{\"type\": \"bar\", \"y\": [\"50plus\", \"cda\", \"christenunie\", \"d66\", \"groenlinks\", \"groepbontes/vanklaveren\", \"groepkuzu/\\u00f6zt\\u00fcrk\", \"klein\", \"partijvoordedieren\", \"pvda\", \"pvdd\", \"pvv\", \"sgp\", \"sp\", \"vvd\"], \"x\": [0.0, 38.0, 22.0, 42.0, 27.0, 20.0, 4.0, 1.0, 0.0, 85.0, 7.0, 161.0, 13.0, 90.0, 84.0], \"name\": \"partnerschappen\", \"orientation\": \"h\"}], {\"barmode\": \"group\", \"title\": \"partnerschappen\"}, {\"showLink\": true, \"linkText\": \"Export to plot.ly\"})});</script>"
      ]
     },
     "metadata": {},
     "output_type": "display_data"
    },
    {
     "data": {
      "application/vnd.plotly.v1+json": {
       "data": [
        {
         "name": "steden",
         "orientation": "h",
         "type": "bar",
         "x": [
          0,
          56,
          10,
          26,
          15,
          1,
          0,
          1,
          0,
          83,
          17,
          14,
          5,
          41,
          51
         ],
         "y": [
          "50plus",
          "cda",
          "christenunie",
          "d66",
          "groenlinks",
          "groepbontes/vanklaveren",
          "groepkuzu/öztürk",
          "klein",
          "partijvoordedieren",
          "pvda",
          "pvdd",
          "pvv",
          "sgp",
          "sp",
          "vvd"
         ]
        }
       ],
       "layout": {
        "barmode": "group",
        "title": "steden"
       }
      },
      "text/html": [
       "<div id=\"80548cf8-34f9-4b51-b727-598fdcca97e8\" style=\"height: 525px; width: 100%;\" class=\"plotly-graph-div\"></div><script type=\"text/javascript\">require([\"plotly\"], function(Plotly) { window.PLOTLYENV=window.PLOTLYENV || {};window.PLOTLYENV.BASE_URL=\"https://plot.ly\";Plotly.newPlot(\"80548cf8-34f9-4b51-b727-598fdcca97e8\", [{\"type\": \"bar\", \"y\": [\"50plus\", \"cda\", \"christenunie\", \"d66\", \"groenlinks\", \"groepbontes/vanklaveren\", \"groepkuzu/\\u00f6zt\\u00fcrk\", \"klein\", \"partijvoordedieren\", \"pvda\", \"pvdd\", \"pvv\", \"sgp\", \"sp\", \"vvd\"], \"x\": [0.0, 56.0, 10.0, 26.0, 15.0, 1.0, 0.0, 1.0, 0.0, 83.0, 17.0, 14.0, 5.0, 41.0, 51.0], \"name\": \"steden\", \"orientation\": \"h\"}], {\"barmode\": \"group\", \"title\": \"steden\"}, {\"showLink\": true, \"linkText\": \"Export to plot.ly\"})});</script>"
      ],
      "text/vnd.plotly.v1+html": [
       "<div id=\"80548cf8-34f9-4b51-b727-598fdcca97e8\" style=\"height: 525px; width: 100%;\" class=\"plotly-graph-div\"></div><script type=\"text/javascript\">require([\"plotly\"], function(Plotly) { window.PLOTLYENV=window.PLOTLYENV || {};window.PLOTLYENV.BASE_URL=\"https://plot.ly\";Plotly.newPlot(\"80548cf8-34f9-4b51-b727-598fdcca97e8\", [{\"type\": \"bar\", \"y\": [\"50plus\", \"cda\", \"christenunie\", \"d66\", \"groenlinks\", \"groepbontes/vanklaveren\", \"groepkuzu/\\u00f6zt\\u00fcrk\", \"klein\", \"partijvoordedieren\", \"pvda\", \"pvdd\", \"pvv\", \"sgp\", \"sp\", \"vvd\"], \"x\": [0.0, 56.0, 10.0, 26.0, 15.0, 1.0, 0.0, 1.0, 0.0, 83.0, 17.0, 14.0, 5.0, 41.0, 51.0], \"name\": \"steden\", \"orientation\": \"h\"}], {\"barmode\": \"group\", \"title\": \"steden\"}, {\"showLink\": true, \"linkText\": \"Export to plot.ly\"})});</script>"
      ]
     },
     "metadata": {},
     "output_type": "display_data"
    },
    {
     "data": {
      "application/vnd.plotly.v1+json": {
       "data": [
        {
         "name": "vreedzame",
         "orientation": "h",
         "type": "bar",
         "x": [
          3,
          69,
          42,
          50,
          86,
          33,
          15,
          1,
          0,
          134,
          22,
          139,
          36,
          177,
          74
         ],
         "y": [
          "50plus",
          "cda",
          "christenunie",
          "d66",
          "groenlinks",
          "groepbontes/vanklaveren",
          "groepkuzu/öztürk",
          "klein",
          "partijvoordedieren",
          "pvda",
          "pvdd",
          "pvv",
          "sgp",
          "sp",
          "vvd"
         ]
        }
       ],
       "layout": {
        "barmode": "group",
        "title": "vreedzame"
       }
      },
      "text/html": [
       "<div id=\"457d63e9-c251-46c4-830a-4dc43282f7c6\" style=\"height: 525px; width: 100%;\" class=\"plotly-graph-div\"></div><script type=\"text/javascript\">require([\"plotly\"], function(Plotly) { window.PLOTLYENV=window.PLOTLYENV || {};window.PLOTLYENV.BASE_URL=\"https://plot.ly\";Plotly.newPlot(\"457d63e9-c251-46c4-830a-4dc43282f7c6\", [{\"type\": \"bar\", \"y\": [\"50plus\", \"cda\", \"christenunie\", \"d66\", \"groenlinks\", \"groepbontes/vanklaveren\", \"groepkuzu/\\u00f6zt\\u00fcrk\", \"klein\", \"partijvoordedieren\", \"pvda\", \"pvdd\", \"pvv\", \"sgp\", \"sp\", \"vvd\"], \"x\": [3.0, 69.0, 42.0, 50.0, 86.0, 33.0, 15.0, 1.0, 0.0, 134.0, 22.0, 139.0, 36.0, 177.0, 74.0], \"name\": \"vreedzame\", \"orientation\": \"h\"}], {\"barmode\": \"group\", \"title\": \"vreedzame\"}, {\"showLink\": true, \"linkText\": \"Export to plot.ly\"})});</script>"
      ],
      "text/vnd.plotly.v1+html": [
       "<div id=\"457d63e9-c251-46c4-830a-4dc43282f7c6\" style=\"height: 525px; width: 100%;\" class=\"plotly-graph-div\"></div><script type=\"text/javascript\">require([\"plotly\"], function(Plotly) { window.PLOTLYENV=window.PLOTLYENV || {};window.PLOTLYENV.BASE_URL=\"https://plot.ly\";Plotly.newPlot(\"457d63e9-c251-46c4-830a-4dc43282f7c6\", [{\"type\": \"bar\", \"y\": [\"50plus\", \"cda\", \"christenunie\", \"d66\", \"groenlinks\", \"groepbontes/vanklaveren\", \"groepkuzu/\\u00f6zt\\u00fcrk\", \"klein\", \"partijvoordedieren\", \"pvda\", \"pvdd\", \"pvv\", \"sgp\", \"sp\", \"vvd\"], \"x\": [3.0, 69.0, 42.0, 50.0, 86.0, 33.0, 15.0, 1.0, 0.0, 134.0, 22.0, 139.0, 36.0, 177.0, 74.0], \"name\": \"vreedzame\", \"orientation\": \"h\"}], {\"barmode\": \"group\", \"title\": \"vreedzame\"}, {\"showLink\": true, \"linkText\": \"Export to plot.ly\"})});</script>"
      ]
     },
     "metadata": {},
     "output_type": "display_data"
    },
    {
     "data": {
      "application/vnd.plotly.v1+json": {
       "data": [
        {
         "name": "water",
         "orientation": "h",
         "type": "bar",
         "x": [
          3,
          38,
          17,
          40,
          30,
          1,
          1,
          1,
          0,
          82,
          40,
          19,
          5,
          103,
          38
         ],
         "y": [
          "50plus",
          "cda",
          "christenunie",
          "d66",
          "groenlinks",
          "groepbontes/vanklaveren",
          "groepkuzu/öztürk",
          "klein",
          "partijvoordedieren",
          "pvda",
          "pvdd",
          "pvv",
          "sgp",
          "sp",
          "vvd"
         ]
        }
       ],
       "layout": {
        "barmode": "group",
        "title": "water"
       }
      },
      "text/html": [
       "<div id=\"4ab144d0-659c-4bcb-ba5b-7c3a5dac295d\" style=\"height: 525px; width: 100%;\" class=\"plotly-graph-div\"></div><script type=\"text/javascript\">require([\"plotly\"], function(Plotly) { window.PLOTLYENV=window.PLOTLYENV || {};window.PLOTLYENV.BASE_URL=\"https://plot.ly\";Plotly.newPlot(\"4ab144d0-659c-4bcb-ba5b-7c3a5dac295d\", [{\"type\": \"bar\", \"y\": [\"50plus\", \"cda\", \"christenunie\", \"d66\", \"groenlinks\", \"groepbontes/vanklaveren\", \"groepkuzu/\\u00f6zt\\u00fcrk\", \"klein\", \"partijvoordedieren\", \"pvda\", \"pvdd\", \"pvv\", \"sgp\", \"sp\", \"vvd\"], \"x\": [3.0, 38.0, 17.0, 40.0, 30.0, 1.0, 1.0, 1.0, 0.0, 82.0, 40.0, 19.0, 5.0, 103.0, 38.0], \"name\": \"water\", \"orientation\": \"h\"}], {\"barmode\": \"group\", \"title\": \"water\"}, {\"showLink\": true, \"linkText\": \"Export to plot.ly\"})});</script>"
      ],
      "text/vnd.plotly.v1+html": [
       "<div id=\"4ab144d0-659c-4bcb-ba5b-7c3a5dac295d\" style=\"height: 525px; width: 100%;\" class=\"plotly-graph-div\"></div><script type=\"text/javascript\">require([\"plotly\"], function(Plotly) { window.PLOTLYENV=window.PLOTLYENV || {};window.PLOTLYENV.BASE_URL=\"https://plot.ly\";Plotly.newPlot(\"4ab144d0-659c-4bcb-ba5b-7c3a5dac295d\", [{\"type\": \"bar\", \"y\": [\"50plus\", \"cda\", \"christenunie\", \"d66\", \"groenlinks\", \"groepbontes/vanklaveren\", \"groepkuzu/\\u00f6zt\\u00fcrk\", \"klein\", \"partijvoordedieren\", \"pvda\", \"pvdd\", \"pvv\", \"sgp\", \"sp\", \"vvd\"], \"x\": [3.0, 38.0, 17.0, 40.0, 30.0, 1.0, 1.0, 1.0, 0.0, 82.0, 40.0, 19.0, 5.0, 103.0, 38.0], \"name\": \"water\", \"orientation\": \"h\"}], {\"barmode\": \"group\", \"title\": \"water\"}, {\"showLink\": true, \"linkText\": \"Export to plot.ly\"})});</script>"
      ]
     },
     "metadata": {},
     "output_type": "display_data"
    }
   ],
   "source": [
    "data = []\n",
    "for c in df.columns:\n",
    "    data = []\n",
    "    data.append(go.Bar(\n",
    "        y=df.index.values,\n",
    "        x=df[c].values,\n",
    "        name=c,\n",
    "        orientation = 'h',\n",
    "    ))\n",
    "\n",
    "    layout = go.Layout(\n",
    "        barmode='group',\n",
    "        title=c\n",
    "    )\n",
    "\n",
    "    fig = go.Figure(data=data, layout=layout)\n",
    "    iplot(fig, filename='grouped-bar')"
   ]
  },
  {
   "cell_type": "code",
   "execution_count": null,
   "metadata": {
    "collapsed": true
   },
   "outputs": [],
   "source": []
  }
 ],
 "metadata": {
  "kernelspec": {
   "display_name": "Python 3",
   "language": "python",
   "name": "python3"
  },
  "language_info": {
   "codemirror_mode": {
    "name": "ipython",
    "version": 3
   },
   "file_extension": ".py",
   "mimetype": "text/x-python",
   "name": "python",
   "nbconvert_exporter": "python",
   "pygments_lexer": "ipython3",
   "version": "3.6.1"
  }
 },
 "nbformat": 4,
 "nbformat_minor": 2
}
