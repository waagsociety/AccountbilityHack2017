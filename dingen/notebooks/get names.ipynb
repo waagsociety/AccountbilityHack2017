{
 "cells": [
  {
   "cell_type": "code",
   "execution_count": 2,
   "metadata": {
    "collapsed": true
   },
   "outputs": [],
   "source": [
    "import json\n",
    "with open('dump.json') as file:\n",
    "    questions = json.load(file)"
   ]
  },
  {
   "cell_type": "code",
   "execution_count": 66,
   "metadata": {
    "scrolled": false
   },
   "outputs": [],
   "source": [
    "import re \n",
    "p = re.compile('Vragen van (het lid|de leden) (.{0,200}?)aan de')\n",
    "p2 = re.compile('(?<=\\()[^\\)]+')\n",
    "for i, q in enumerate(questions):\n",
    "    try:\n",
    "        for r in p.findall(q['description'].replace('\\n',' ')):\n",
    "            q['partijen'] = p2.findall(r[1].replace('beiden ','').replace('allen ',''))\n",
    "    except Exception as exc:\n",
    "        pass"
   ]
  },
  {
   "cell_type": "code",
   "execution_count": 67,
   "metadata": {
    "collapsed": true
   },
   "outputs": [],
   "source": [
    "with open('dump_with_partij.json','w+') as file:\n",
    "    questions = json.dump(questions,file)"
   ]
  }
 ],
 "metadata": {
  "kernelspec": {
   "display_name": "Python 3",
   "language": "python",
   "name": "python3"
  },
  "language_info": {
   "codemirror_mode": {
    "name": "ipython",
    "version": 3
   },
   "file_extension": ".py",
   "mimetype": "text/x-python",
   "name": "python",
   "nbconvert_exporter": "python",
   "pygments_lexer": "ipython3",
   "version": "3.6.1"
  }
 },
 "nbformat": 4,
 "nbformat_minor": 2
}
